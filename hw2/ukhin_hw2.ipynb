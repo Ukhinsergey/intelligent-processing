{
 "cells": [
  {
   "cell_type": "markdown",
   "metadata": {},
   "source": [
    "# Алгоритмы интеллектуальной обработки больших объемов данных\n",
    "## Домашнее задание №2: Линейные модели\n"
   ]
  },
  {
   "cell_type": "markdown",
   "metadata": {},
   "source": [
    "###### <hr\\>\n",
    "**Общая информация**\n",
    "\n",
    "**Срок сдачи:** 8 апреля 2019, 06:00 <br\\>\n",
    "**Штраф за опоздание:** -2 балла после 06:00 8 апреля, -4 балла после 06:00 15 апреля, -6 баллов после 06:00 22 апреля  -8 баллов после 06:00 29 апреля.\n",
    "\n",
    "При отправлении ДЗ указывайте фамилию в названии файла<br\\>\n",
    "\n",
    "Используйте данный Ipython Notebook при оформлении домашнего задания.\n",
    "\n",
    "**Штрафные баллы:**\n",
    "\n",
    "1. Невыполнение PEP8 -1 балл\n",
    "2. Отсутствие фамилии в имени скрипта (скрипт должен называться по аналогии со stroykova_hw2.ipynb) -1 балл\n",
    "3. Все строчки должны быть выполнены. Нужно, чтобы output команды можно было увидеть уже в git'е. В противном случае -1 балл\n",
    "4. При оформлении ДЗ нужно пользоваться данным файлом в качестве шаблона. Не нужно удалять и видоизменять написанный код и текст, если явно не указана такая возможность. В противном случае -1 балл\n",
    "<hr\\>"
   ]
  },
  {
   "cell_type": "code",
   "execution_count": 344,
   "metadata": {},
   "outputs": [],
   "source": [
    "import pandas as pd\n",
    "import numpy as np\n",
    "import matplotlib.pyplot as plt\n",
    "\n",
    "%matplotlib inline\n",
    "\n",
    "plt.style.use('ggplot')\n",
    "plt.rcParams['figure.figsize'] = (12,5)"
   ]
  },
  {
   "cell_type": "markdown",
   "metadata": {},
   "source": [
    "Здравствуйте, уважаемые студенты! \n",
    "\n",
    "В этом задании мы будем реализовать линейные модели. Необходимо реализовать линейную и логистическую регрессии с L2 регуляризацией"
   ]
  },
  {
   "cell_type": "markdown",
   "metadata": {},
   "source": [
    "# Теоретическое введение\n",
    "\n"
   ]
  },
  {
   "cell_type": "markdown",
   "metadata": {},
   "source": [
    "*** Что почитать по теории ***\n",
    "\n",
    "Одна из лучших книг по ML $-$ \"Pattern Recognition and Machine Learning\" Bishop, Christopher. "
   ]
  },
  {
   "cell_type": "markdown",
   "metadata": {},
   "source": [
    "Линейная регрессия решает задачу регрессии и оптимизирует функцию потерь MSE \n",
    "\n",
    "$$L(w) =  \\frac{1}{N}\\left[\\sum_i (y_i - a_i) ^ 2 \\right], $$ где $y_i$ $-$ целевая функция,  $a_i = a(x_i) =  \\langle\\,x_i,w\\rangle ,$ $-$ предсказание алгоритма на объекте $x_i$, $w$ $-$ вектор весов (размерности $D$), $x_i$ $-$ вектор признаков (такой же размерности $D$).\n"
   ]
  },
  {
   "cell_type": "markdown",
   "metadata": {},
   "source": [
    "Логистическая регрессия является линейным классификатором, который оптимизирует так называемый функционал log loss:"
   ]
  },
  {
   "cell_type": "markdown",
   "metadata": {},
   "source": [
    "$$L(w) = - \\frac{1}{N}\\left[\\sum_i y_i \\log a_i + ( 1 - y_i) \\log (1 - a_i) \\right],$$\n",
    "где  $y_i  \\in \\{0,1\\}$ $-$ метка класса, $a_i$ $-$ предсказание алгоритма на объекте $x_i$. Модель пытается предсказать апостериорую вероятность объекта принадлежать к классу \"1\":\n",
    "$$ p(y_i = 1 | x_i) = a(x_i) =  \\sigma( \\langle\\,x_i,w\\rangle ),$$\n",
    "$w$ $-$ вектор весов (размерности $D$), $x_i$ $-$ вектор признаков (такой же размерности $D$).\n",
    "\n",
    "Функция $\\sigma(x)$ $-$ нелинейная функция, пероводящее скалярное произведение объекта на веса в число $\\in (0,1)$ (мы же моделируем вероятность все-таки!)\n",
    "\n",
    "$$\\sigma(x) = \\frac{1}{1 + \\exp(-x)}$$\n",
    "\n",
    "Если внимательно посмотреть на функцию потерь, то можно заметить, что в зависимости от правильного ответа алгоритм штрафуется или функцией $-\\log a_i$, или функцией $-\\log (1 - a_i)$.\n",
    "\n"
   ]
  },
  {
   "cell_type": "markdown",
   "metadata": {},
   "source": [
    "Часто для решения проблем, которые так или иначе связаны с проблемой переобучения, в функционал качества добавляют слагаемое, которое называют ***регуляризацией***. Итоговый функционал для линейной регрессии тогда принимает вид:\n",
    "\n",
    "$$L(w) =  \\frac{1}{N}\\left[\\sum_i (y_i - a_i) ^ 2 \\right] + \\frac{1}{C}R(w) $$\n",
    "\n",
    "Для логистической: \n",
    "$$L(w) = - \\frac{1}{N}\\left[\\sum_i y_i \\log a_i + ( 1 - y_i) \\log (1 - a_i) \\right] +  \\frac{1}{C}R(w)$$\n",
    "\n",
    "Самое понятие регуляризации введено основателем ВМК академиком Тихоновым https://ru.wikipedia.org/wiki/Метод_регуляризации_Тихонова\n",
    "\n",
    "Идейно методика регуляризации заключается в следующем $-$ мы рассматриваем некорректно поставленную задачу (что это такое можно найти в интернете), для того чтобы сузить набор различных вариантов (лучшие из которых будут являться переобучением ) мы вводим дополнительные ограничения на множество искомых решений. На лекции Вы уже рассмотрели два варианта регуляризации.\n",
    "\n",
    "$L1$ регуляризация:\n",
    "$$R(w) = \\sum_{j=1}^{D}|w_j|$$\n",
    "$L2$ регуляризация:\n",
    "$$R(w) =  \\sum_{j=1}^{D}w_j^2$$\n",
    "\n",
    "С их помощью мы ограничиваем модель в  возможности выбора каких угодно весов минимизирующих наш лосс, модель уже не сможет подстроиться под данные как ей угодно. \n",
    "\n",
    "Вам нужно добавить соотвествущую Вашему варианту $L2$ регуляризацию.\n",
    "\n",
    "И так, мы поняли, какую функцию ошибки будем минимизировать, разобрались, как получить предсказания по объекту и обученным весам. Осталось разобраться, как получить оптимальные веса. Для этого нужно выбрать какой-то метод оптимизации.\n",
    "\n"
   ]
  },
  {
   "cell_type": "markdown",
   "metadata": {},
   "source": [
    "Градиентный спуск является самым популярным алгоритмом обучения линейных моделей. В этом задании Вам предложат реализовать стохастический градиентный спуск или  мини-батч градиентный спуск (мини-батч на русский язык довольно сложно перевести, многие переводят это как \"пакетный\", но мне не кажется этот перевод удачным). Далее нам потребуется определение **эпохи**.\n",
    "Эпохой в SGD и MB-GD называется один проход по **всем** объектам в обучающей выборки.\n",
    "* В SGD градиент расчитывается по одному случайному объекту. Сам алгоритм выглядит примерно так:\n",
    "        1) Перемешать выборку\n",
    "        2) Посчитать градиент функции потерь на одном объекте (далее один объект тоже будем называть батчем)\n",
    "        3) Сделать шаг спуска\n",
    "        4) Повторять 2) и 3) пока не пройдет максимальное число эпох.\n",
    "* В Mini Batch SGD - по подвыборке объектов. Сам алгоритм выглядит примерно так::\n",
    "        1) Перемешать выборку, выбрать размер мини-батча (от 1 до размера выборки)\n",
    "        2) Почитать градиент функции потерь по мини-батчу (не забыть поделить на  число объектов в мини-батче)\n",
    "        3) Сделать шаг спуска\n",
    "        4) Повторять 2) и 3) пока не пройдет максимальное число эпох.\n",
    "* Для отладки алгоритма реализуйте возможность  вывода средней ошибки на обучении модели по объектам (мини-батчам). После шага градиентного спуска посчитайте значение ошибки на объекте (или мини-батче), а затем усредните, например, по ста шагам. Если обучение проходит корректно, то мы должны увидеть, что каждые 100 шагов функция потерь уменьшается. \n",
    "* Правило останова - максимальное количество эпох\n",
    "    \n"
   ]
  },
  {
   "cell_type": "markdown",
   "metadata": {},
   "source": [
    "# Теоретические вопросы (2 балла)\n",
    "В этой части Вам будут предложены теоретичские вопросы и задачи по теме. Вы, конечно, можете списать их у своего товарища или найти решение в интернете, но учтите, что они обязательно войдут в теоретический коллоквиум. Лучше разобраться в теме сейчас и успешно ответить на коллоквиуме, чем списать, не разобравшись в материале, и быть терзаемым совестью. \n",
    "\n",
    "\n",
    "Формулы надо оформлять в формате **LaTeX**."
   ]
  },
  {
   "cell_type": "markdown",
   "metadata": {},
   "source": [
    "Задача 1. Градиент для линейной регрессии.\n",
    "* Выпишите формулу обновления весов для линейной регрессии с L2 регуляризацией для мини-батч градиентого спуска размера $n$:\n",
    "\n",
    "$$ w_{new} = w_{old} - ... $$\n",
    "\n",
    " Отнеситесь к этому пункту максимально серьезно, это Вам нужно будет реализовать в задании.\n",
    " \n",
    "Проанализруйте итоговую формулу градиента - как  интуитивно можно  описать, чему равен градиент?"
   ]
  },
  {
   "cell_type": "markdown",
   "metadata": {},
   "source": [
    "\n",
    "$$ L(\\omega) = \\frac{1}{n}\\sum_{i=1}^n(\\omega\\cdot x_{i} - y_{i})^2 + \\frac{\\|\\omega\\|^2}{C} $$\n",
    "\n",
    "\n",
    "$$ \\frac{\\partial{L}}{\\partial{\\omega_{j}}} = \\frac{2}{n}\\sum_{i=1}^n x_{ij}(\\omega\\cdot x_{i} - y_{i}) + \\frac{2}{C}\\omega_{j} $$\n",
    "\n",
    "\n",
    "$$ \\nabla{L} = (\\frac{\\partial{L}}{\\partial{\\omega_{1}}}, \\frac{\\partial{L}}{\\partial{\\omega_{2}}}, ..., \n",
    "\\frac{\\partial{L}}{\\partial{\\omega_{N}}}) $$\n",
    "\n",
    "\n",
    "$$ \\omega_{new} = \\omega_{old} - \\alpha\\nabla{L} $$\n",
    "\n",
    "\n",
    "$$ N - кол-во\\ признаков, \\alpha- длина\\ шага\\ спуска, С - параметр\\ регуляризации, n - размер\\ батча $$"
   ]
  },
  {
   "cell_type": "markdown",
   "metadata": {},
   "source": [
    "Градиент показывает разницу между скалярным произведением  и правильным ответом. Соответственно если наше скалярное произведение недостаточно большое, а правильный ответ 1, то градиент будет отрицательным, и наши веса будут увеличиваться."
   ]
  },
  {
   "cell_type": "markdown",
   "metadata": {},
   "source": [
    "Задача 2. Градиент для логистической регрессии.\n",
    "* Выпишите формулу обновления весов для логистической регрессии с L2 регуляризацией  для мини-батч градиентого спуска размера $n$:\n",
    "\n",
    "$$ w_{new} = w_{old} - ... $$\n",
    "\n",
    " Отнеситесь к этому пункту максимально серьезно, это Вам нужно будет реализовать в задании.\n",
    " \n",
    "Проанализруйте итоговую формулу градиента - как  интуитивно можно  описать, чему равен градиент? Как соотносится этот градиент с градиентом, возникающий в задаче линейной регрессии?"
   ]
  },
  {
   "cell_type": "markdown",
   "metadata": {},
   "source": [
    "$$ L(w) = - \\frac{1}{N}\\left[\\sum_i y_i \\log a_i + ( 1 - y_i) \\log (1 - a_i) \\right] + \\frac{1}{C}R(w) $$\n",
    "\n",
    "$$ Где\\qquad a_i = \\frac{\\mathrm{1} }{\\mathrm{1} + e^-\\langle w, x_i \\rangle} $$\n",
    "\n",
    "$$ \\frac{\\partial{L}}{\\partial{w{j}}} = \\frac{\\partial{}}{\\partial{w{j}}}\\left( - \\frac{1}{N}\\left[\\sum_i y_i \\log a_i + ( 1 - y_i) \\log (1 - a_i) \\right] + \\frac{1}{C}R(w) \\right) = $$\n",
    "\n",
    "$$ = - \\frac{1}{N}\\left[\\sum_i \\left(y_i \\frac{\\partial{}}{\\partial{a_i}}\\log a_i + ( 1 - y_i) \\frac{\\partial{}}{\\partial{a_i}}\\log (1 - a_i) \\right) \\frac{\\partial{a_i}}{\\partial{w{j}}} \\right] + \\frac{\\partial{}}{\\partial{w{j}}}\\frac{1}{C}R(w) = $$\n",
    "\n",
    "$$ = - \\frac{1}{N}\\left[\\sum_i \\left(\\frac{y_i}{a_i} - \\frac{1 - y_i}{1 - a_i} \\right)\\frac{\\partial{a_i}}{\\partial{w{j}}} \\right] + \\frac{2}{C} w_j $$\n",
    "\n",
    "$$ Вычислим\\quad\\frac{\\partial{a_i}}{\\partial{w{j}}}:\\qquad\\qquad\\qquad\\qquad\\qquad\\qquad\\qquad\\qquad\\qquad\\qquad $$\n",
    "\n",
    "$$ \\frac{\\partial{a_i}}{\\partial{w{j}}} = \\frac{\\partial{}}{\\partial{w{j}}} \\frac{\\mathrm{1} }{\\mathrm{1} + e^-(w, x_i)} = e^-(w, x_i) \\frac{\\mathrm{1} }{\\mathrm{1} + e^-(w, x_i)} \\frac{\\mathrm{1} }{\\mathrm{1} + e^-(w, x_i)} x_{ij} = $$\n",
    "\n",
    "$$ = \\left( 1 - \\frac{\\mathrm{1} }{\\mathrm{1} + e^-(w, x_i)} \\right) \\frac{\\mathrm{1} }{\\mathrm{1} + e^-(w, x_i)} x_{ij} = \\left( 1 - a_i \\right) a_i x_{ij} $$\n",
    "\n",
    "$$ Подставим\\quad\\frac{\\partial{a_i}}{\\partial{w{j}}}\\quad в\\quadформулу \\quad \\frac{\\partial{L}}{\\partial{w{j}}}:\\qquad\\qquad\\qquad\\qquad\\qquad\\qquad $$\n",
    "\n",
    "$$ \\frac{\\partial{L}}{\\partial{w{j}}} = - \\frac{1}{N}\\left[\\sum_i \\left(\\frac{y_i - a_i}{a_i(1 - a_i)} \\right) \\left( 1 - a_i \\right) a_i x_{ij}\\right] + \\frac{2}{C} w_j $$\n",
    "\n",
    "$$ = \\frac{1}{N}\\left[\\sum_i (a_i - y_i) x_{ij}\\right] + \\frac{2}{C} w_j $$\n",
    "\n",
    "$$ \\nabla{L} = (\\frac{\\partial{L}}{\\partial{\\omega_{1}}}, \\frac{\\partial{L}}{\\partial{\\omega_{2}}}, ..., \n",
    "\\frac{\\partial{L}}{\\partial{\\omega_{D}}}) $$\n",
    "\n",
    "$$ \\omega_{new} = \\omega_{old}- \\alpha\\nabla{L} $$\n",
    "\n",
    "$$ N - размер\\ mini-butch\\ подвыборки, \\alpha - длина\\ шага\\ спуска, С - параметр\\ регуляризации, D - количество\\ признаков $$"
   ]
  },
  {
   "cell_type": "markdown",
   "metadata": {},
   "source": [
    "Задача 3. Точное решение линейной регрессии\n",
    "\n",
    "На лекции было показано, что точное решение линейной регрессии имеет вид $w = (X^TX)^{-1}X^TY $. \n",
    "* Покажите, что это действительно является точкой минимума в случае, если матрица X имеет строк не меньше, чем столбцов и имеет полный ранг. Подсказка: посчитайте Гессиан и покажите, что в этом случае он положительно определен. \n",
    "* Выпишите точное решение для модели с $L2$ регуляризацией"
   ]
  },
  {
   "cell_type": "markdown",
   "metadata": {},
   "source": [
    "Берем вторую производную  по  $ w $ от $ \\nabla{Q} = (X^TX)w - X^Ty $ = $ X^TX $\n",
    "\n",
    "По определению положительно определенной матрицы:\n",
    "$ (w^TX^TXw) = (Xw)^T \\cdot Xw > 0 $"
   ]
  },
  {
   "cell_type": "markdown",
   "metadata": {},
   "source": [
    "Точное решение для L2 регуляризации: $w = (X^TX + \\alpha I)^{-1}X^TY$  \n",
    "$\\alpha$ - длина шага спуска"
   ]
  },
  {
   "cell_type": "markdown",
   "metadata": {},
   "source": [
    "Задача 4.  Предсказываем вероятности.\n",
    "\n",
    "Когда говорят о логистической регрессии, произносят фразу, что она \"предсказывает вероятности положительного класса\". Давайте разберемся, что же за этим стоит. Посчитаем математическое ожидание функции потерь и проверим, что предсказание алгоритма, оптимизирующее это мат. ожидание, будет являться вероятностью положительного класса. \n",
    "\n",
    "И так, функция потерь на объекте $x_i$, который имеет метку $y_i \\in \\{0,1\\}$  для предсказания $a(x_i)$ равна:\n",
    "$$L(y_i, b) =-[y_i == 1] \\log a(x_i)  - [y_i == 0] \\log(1 - a(x_i)) $$\n",
    "\n",
    "Где $[]$ означает индикатор $-$ он равен единице, если значение внутри него истинно, иначе он равен нулю. Тогда мат. ожидание при условии конкретного $x_i$  по определение мат. ожидания дискретной случайной величины:\n",
    "$$E(L | x_i) = -p(y_i = 1 |x_i ) \\log a(x_i)  - p(y_i = 0 | x_i) \\log( 1 - a(x_i))$$\n",
    "* Докажите, что значение $a(x_i)$, минимизирующее данное мат. ожидание, в точности равно $p(y_i = 1 |x_i)$, то есть равно вероятности положительного класса.\n",
    "\n",
    "\n",
    "\n",
    "Подсказка: возможно, придется воспользоваться, что  $p(y_i = 1 | x_i) + p(y_i = 0 | x_i) = 1$"
   ]
  },
  {
   "cell_type": "markdown",
   "metadata": {},
   "source": [
    "$$\\frac {\\partial E(L | x_i)} {\\partial a(x_i)} = \\frac {p(y_i = 0 |x_i)}{1-a(x_i)} - \\frac {p(y_i = 1 |x_i)}{a(x_i)} = 0 $$\n",
    "\n",
    "$${p(y_i = 0 |x_i)} a(x_i) - {p(y_i = 1 |x_i)} (1 - a(x_i)) = {p(y_i = 1 |x_i)} a(x_i) + {p(y_i = 0 |x_i)}a(x_i) - {p(y_i = 1 |x_i)} = 0$$\n",
    "\n",
    "$$a(x_i) = {p(y_i = 1 |x_i)}$$"
   ]
  },
  {
   "cell_type": "markdown",
   "metadata": {},
   "source": [
    "#  Реализация линейной модели (5 баллов)"
   ]
  },
  {
   "cell_type": "markdown",
   "metadata": {},
   "source": [
    "## Зачем нужны батчи?\n"
   ]
  },
  {
   "cell_type": "markdown",
   "metadata": {},
   "source": [
    "Как Вы могли заметить из теоретического введения, что в случае SGD, что в случа mini-batch GD,  на каждой итерации обновление весов  происходит только по небольшой части данных (1 пример в случае SGD, batch примеров в случае mini-batch). То есть для каждой итерации нам *** не нужна вся выборка***. Мы можем просто итерироваться по выборке, беря батч нужного размера (далее 1 объект тоже будем называть батчом).\n",
    "\n",
    "Легко заметить, что в этом случае нам не нужно загружать все данные в оперативную память, достаточно просто считать батч с диска, обновить веса, считать диска другой батч и так далее. В целях упрощения домашней работы, прямо с диска  мы считывать не будем, будем работать с обычными numpy array. \n",
    "\n",
    "\n",
    "\n"
   ]
  },
  {
   "cell_type": "markdown",
   "metadata": {},
   "source": [
    "## Немножко про генераторы в Python\n",
    "\n"
   ]
  },
  {
   "cell_type": "markdown",
   "metadata": {},
   "source": [
    "Идея считывания данных кусками удачно ложится на так называемые ***генераторы*** из языка Python. В данной работе Вам предлагается не только разобраться с логистической регрессией, но  и познакомиться с таким важным элементом языка.  При желании Вы можете убрать весь код, связанный с генераторами, и реализовать логистическую регрессию и без них, ***штрафоваться это никак не будет***. Главное, чтобы сама модель была реализована правильно, и все пункты были выполнены. \n",
    "\n",
    "Подробнее можно почитать вот тут https://anandology.com/python-practice-book/iterators.html\n"
   ]
  },
  {
   "cell_type": "markdown",
   "metadata": {},
   "source": [
    "К генератору стоит относиться просто как к функции, которая порождает не один объект, а целую последовательность объектов. Новое значение из последовательности генерируется с помощью ключевого слова ***yield***. Ниже Вы можете насладиться  генератором чисел Фибоначчи."
   ]
  },
  {
   "cell_type": "code",
   "execution_count": 345,
   "metadata": {},
   "outputs": [],
   "source": [
    "def fib(max_iter=4):\n",
    "    a, b = 0, 1\n",
    "    iter_num = 0\n",
    "    while 1:\n",
    "        yield a\n",
    "        a, b = b, a + b\n",
    "        iter_num += 1\n",
    "        if iter_num == max_iter:\n",
    "            break"
   ]
  },
  {
   "cell_type": "markdown",
   "metadata": {},
   "source": [
    "Вот так можно сгенерировать последовательность Фибоначчи. \n",
    "\n",
    "Заметьте, что к генераторам можно применять некоторые стандартные функции из Python, например enumerate."
   ]
  },
  {
   "cell_type": "code",
   "execution_count": 346,
   "metadata": {},
   "outputs": [
    {
     "name": "stdout",
     "output_type": "stream",
     "text": [
      "Fib num: 0 fib values: 0\n",
      "Fib num: 1 fib values: 1\n",
      "Fib num: 2 fib values: 1\n",
      "Fib num: 3 fib values: 2\n"
     ]
    }
   ],
   "source": [
    "new_generator = fib()\n",
    "for j, fib_val in enumerate(new_generator):\n",
    "    print (\"Fib num: \" + str(j) + \" fib values: \" + str(fib_val))"
   ]
  },
  {
   "cell_type": "markdown",
   "metadata": {},
   "source": [
    "Пересоздавая объект, можно сколько угодно раз генерировать заново последовательность. "
   ]
  },
  {
   "cell_type": "code",
   "execution_count": 347,
   "metadata": {},
   "outputs": [
    {
     "name": "stdout",
     "output_type": "stream",
     "text": [
      "Fib num: 0 fib values: 0\n",
      "Fib num: 1 fib values: 1\n",
      "Fib num: 2 fib values: 1\n",
      "Fib num: 3 fib values: 2\n",
      "Fib num: 0 fib values: 0\n",
      "Fib num: 1 fib values: 1\n",
      "Fib num: 2 fib values: 1\n",
      "Fib num: 3 fib values: 2\n",
      "Fib num: 0 fib values: 0\n",
      "Fib num: 1 fib values: 1\n",
      "Fib num: 2 fib values: 1\n",
      "Fib num: 3 fib values: 2\n"
     ]
    }
   ],
   "source": [
    "for i in range(0, 3):\n",
    "    new_generator = fib()\n",
    "    for j, fib_val in enumerate(new_generator):\n",
    "        print (\"Fib num: \" + str(j) + \" fib values: \" + str(fib_val))"
   ]
  },
  {
   "cell_type": "markdown",
   "metadata": {},
   "source": [
    "А вот так уже нельзя."
   ]
  },
  {
   "cell_type": "code",
   "execution_count": 348,
   "metadata": {},
   "outputs": [
    {
     "name": "stdout",
     "output_type": "stream",
     "text": [
      "Fib num: 0 fib values: 0\n",
      "Fib num: 1 fib values: 1\n",
      "Fib num: 2 fib values: 1\n",
      "Fib num: 3 fib values: 2\n"
     ]
    }
   ],
   "source": [
    "new_generator = fib()\n",
    "for i in range(0, 3):\n",
    "    for j, fib_val in enumerate(new_generator):\n",
    "        print (\"Fib num: \" + str(j) + \" fib values: \" + str(fib_val))"
   ]
  },
  {
   "cell_type": "markdown",
   "metadata": {},
   "source": [
    "Концепция крайне удобная для обучения  моделей $-$ у Вас есть некий источник данных, который Вам выдает их кусками, и Вам совершенно все равно откуда он их берет. Под ним может скрывать как массив в оперативной памяти, как файл на жестком диске, так и SQL база данных. Вы сами данные никуда не сохраняете, оперативную память экономите."
   ]
  },
  {
   "cell_type": "markdown",
   "metadata": {},
   "source": [
    "Если Вам понравилась идея с генераторами, то Вы можете реализовать свой, используя прототип batch_generator. В нем Вам нужно выдавать батчи признаков и ответов для каждой новой итерации спуска. Если не понравилась идея, то можете реализовывать SGD или mini-batch GD без генераторов."
   ]
  },
  {
   "cell_type": "code",
   "execution_count": 349,
   "metadata": {},
   "outputs": [],
   "source": [
    "def batch_generator(X, y, shuffle=True, batch_size=1):\n",
    "    \"\"\"\n",
    "    Гератор новых батчей для обучения\n",
    "    X          - матрица объекты-признаки\n",
    "    y_batch    - вектор ответов\n",
    "    shuffle    - нужно ли случайно перемешивать выборку\n",
    "    batch_size - размер батча ( 1 это SGD, > 1 mini-batch GD)\n",
    "    Генерирует подвыборку для итерации спуска (X_batch, y_batch)\n",
    "    \"\"\"\n",
    "    ind = np.arange(X.shape[0])\n",
    "    if shuffle == True :\n",
    "        np.random.shuffle(ind)\n",
    "    for i in range(0, X.shape[0], batch_size):\n",
    "        X_batch = X[ind[i: min(i + batch_size, X.shape[0] )]]\n",
    "        y_batch = y[ind[i: min(i + batch_size, X.shape[0] )]]\n",
    "        yield (X_batch, y_batch)\n",
    "\n",
    "# Теперь можно сделать генератор по данным ()\n",
    "#  my_batch_generator = batch_generator(X, y, shuffle=True, batch_size=1):"
   ]
  },
  {
   "cell_type": "code",
   "execution_count": 350,
   "metadata": {},
   "outputs": [],
   "source": [
    "#%%pycodestyle\n",
    "\n",
    "def sigmoid(x):\n",
    "    \"\"\"\n",
    "    Вычисляем значение сигмоида.\n",
    "    X - выход линейной модели\n",
    "    \"\"\"\n",
    "    \n",
    "    sigm_value_x = 1/(1 + np.exp(-x))\n",
    "    return sigm_value_x\n",
    "\n",
    "\n",
    "from sklearn.base import BaseEstimator, ClassifierMixin\n",
    "\n",
    "class MySGDClassifier(BaseEstimator, ClassifierMixin):\n",
    "    \n",
    "    def __init__(self, batch_generator, C=1, alpha=0.01, max_epoch=10, model_type='lin_reg', batch_size = 1):\n",
    "        \"\"\"\n",
    "        batch_generator -- функция генератор, которой будем создавать батчи\n",
    "        C - коэф. регуляризации\n",
    "        alpha - скорость спуска\n",
    "        max_epoch - максимальное количество эпох\n",
    "        model_type - тим модели, lin_reg или log_reg\n",
    "        \"\"\"\n",
    "        \n",
    "        self.C = C\n",
    "        self.alpha = alpha\n",
    "        self.max_epoch = max_epoch\n",
    "        self.batch_generator = batch_generator\n",
    "        self.errors_log = {'iter' : [], 'loss' : [], 'weights' : []}  \n",
    "        self.model_type = model_type\n",
    "        self.batch_size = batch_size\n",
    "        \n",
    "    def calc_loss(self, X_batch, y_batch):\n",
    "        \"\"\"\n",
    "        Считаем функцию потерь по батчу \n",
    "        X_batch - матрица объекты-признаки по батчу\n",
    "        y_batch - вектор ответов по батчу\n",
    "        Не забудте тип модели (линейная или логистическая регрессия)!\n",
    "        \"\"\"\n",
    "        if self.model_type == 'lin_reg':\n",
    "            loss = np.sum((self.predict_prob(X_batch) - y_batch) ** 2)\n",
    "            loss = loss / X_batch.shape[0]\n",
    "            loss += np.sum(self.weights ** 2) / self.C\n",
    "        if self.model_type == 'log_reg':\n",
    "            loss = -np.sum(y_batch * np.log(self.predict_prob(X_batch))\n",
    "                           + (1 - y_batch) * np.log(1 - self.predict_prob(X_batch)))\n",
    "            loss = loss / X_batch.shape[0]\n",
    "            loss += np.sum(self.weights ** 2) / self.C\n",
    "        return loss\n",
    "    \n",
    "    def calc_loss_grad(self, X_batch, y_batch):\n",
    "        \"\"\"\n",
    "        Считаем  градиент функции потерь по батчу (то что Вы вывели в задании 1)\n",
    "        X_batch - матрица объекты-признаки по батчу\n",
    "        y_batch - вектор ответов по батчу\n",
    "        Не забудте тип модели (линейная или логистическая регрессия)!\n",
    "        \"\"\"\n",
    "        \n",
    "        if self.model_type == 'lin_reg':\n",
    "            loss_grad = 2 * self.weights / self.C + 2 * np.dot(self.predict_prob(X_batch) - y_batch, X_batch) / X_batch.shape[0]\n",
    "        if self.model_type == 'log_reg':\n",
    "            loss_grad = 2 * self.weights / self.C + 2 * np.dot(self.predict_prob(X_batch) - y_batch, X_batch) / X_batch.shape[0]\n",
    "            \n",
    "        \n",
    "        return loss_grad\n",
    "    \n",
    "    def update_weights(self, new_grad):\n",
    "        \"\"\"\n",
    "        Обновляем вектор весов\n",
    "        new_grad - градиент по батчу\n",
    "        \"\"\"\n",
    "        self.weights = self.weights - self.alpha * new_grad\n",
    "    \n",
    "    def fit(self, X, y):\n",
    "        '''\n",
    "        Обучение модели\n",
    "        X - матрица объекты-признаки\n",
    "        y - вектор ответов\n",
    "        '''\n",
    "        \n",
    "        # Нужно инициализровать случайно веса\n",
    "        Xnew = np.hstack((np.ones((X.shape[0],1)),X))\n",
    "        self.weights = np.random.rand(Xnew.shape[1])\n",
    "        for n in range(0, self.max_epoch):\n",
    "            new_epoch_generator = self.batch_generator(Xnew, y, True, self.batch_size)\n",
    "            for batch_num, new_batch in enumerate(new_epoch_generator):\n",
    "                X_batch = new_batch[0]\n",
    "                y_batch = new_batch[1]\n",
    "                batch_grad = self.calc_loss_grad(X_batch, y_batch)\n",
    "                batch_loss = self.calc_loss(X_batch, y_batch)\n",
    "                self.update_weights(batch_grad)\n",
    "                # Подумайте в каком месте стоит посчитать ошибку для отладки модели\n",
    "                self.errors_log['iter'].append(batch_num)\n",
    "                self.errors_log['loss'].append(batch_loss)\n",
    "                self.errors_log['weights'].append(np.mean(self.weights))\n",
    "                \n",
    "        return self\n",
    "        \n",
    "    def predict_prob(self, X):\n",
    "        if self.model_type == 'lin_reg':\n",
    "            y_hat = np.dot(X, self.weights)\n",
    "        if self.model_type == 'log_reg':\n",
    "            y_hat = sigmoid(np.dot(X, self.weights))\n",
    "           \n",
    "        return y_hat\n",
    "    \n",
    "    def predict(self,X):\n",
    "        '''\n",
    "        Предсказание класса\n",
    "        X - матрица объекты-признаки\n",
    "        Не забудте тип модели (линейная или логистическая регрессия)!\n",
    "        '''\n",
    "        Xnew = np.hstack((np.ones((X.shape[0],1)),X))\n",
    "        if self.model_type == 'lin_reg':\n",
    "            answ = (self.predict_prob(Xnew) > 0.)\n",
    "        if self.model_type == 'log_reg':\n",
    "            answ = (self.predict_prob(Xnew) > 0.5)\n",
    "        answ = answ * 1\n",
    "        return answ"
   ]
  },
  {
   "cell_type": "markdown",
   "metadata": {},
   "source": [
    "Запустите обе регрессии на синтетических данных. \n",
    "\n",
    "\n",
    "Выведите полученные веса и нарисуйте разделяющую границу между классами (используйте только первых два веса для первых двух признаков X[:,0], X[:,1] для отображения в 2d пространство ).  "
   ]
  },
  {
   "cell_type": "code",
   "execution_count": 245,
   "metadata": {},
   "outputs": [],
   "source": [
    "def plot_decision_boundary(clf):\n",
    "    x = [-4, 8]\n",
    "    y = [-(clf.weights[1] * x[0] + clf.weights[0]) / clf.weights[2], \n",
    "         -(clf.weights[1] * x[1] + clf.weights[0]) / clf.weights[2]]\n",
    "    plt.plot(x,y)\n",
    "    print(clf.weights)"
   ]
  },
  {
   "cell_type": "code",
   "execution_count": 246,
   "metadata": {},
   "outputs": [
    {
     "name": "stdout",
     "output_type": "stream",
     "text": [
      "[-0.12795163  0.14522861 -0.16536657]\n",
      "[-3.73301608  0.86734388 -0.87990323]\n"
     ]
    },
    {
     "data": {
      "text/plain": [
       "<matplotlib.collections.PathCollection at 0x7f15e7a8e668>"
      ]
     },
     "execution_count": 246,
     "metadata": {},
     "output_type": "execute_result"
    },
    {
     "data": {
      "image/png": "[encoded data removed]",
      "text/plain": [
       "<Figure size 864x360 with 1 Axes>"
      ]
     },
     "metadata": {},
     "output_type": "display_data"
    }
   ],
   "source": [
    "np.random.seed(0)\n",
    "\n",
    "C1 = np.array([[0., -0.8], [1.5, 0.8]])\n",
    "C2 = np.array([[1., -0.7], [2., 0.7]])\n",
    "gauss1 = np.dot(np.random.randn(200, 2) + np.array([5, 3]), C1)\n",
    "gauss2 = np.dot(np.random.randn(200, 2) + np.array([1.5, 0]), C2)\n",
    "#print(gauss1)\n",
    "X = np.vstack([gauss1, gauss2])\n",
    "y = np.r_[np.ones(200), np.zeros(200)]\n",
    "\n",
    "clf1 = MySGDClassifier(batch_generator, C=1000, model_type='lin_reg', alpha=0.01, batch_size=10, max_epoch=100)\n",
    "clf1.fit(X, y)\n",
    "\n",
    "plot_decision_boundary(clf1)\n",
    "\n",
    "clf2 = MySGDClassifier(batch_generator, C=1000, model_type='log_reg', alpha=0.01, batch_size=10, max_epoch=100)\n",
    "clf2.fit(X, y)\n",
    "plot_decision_boundary(clf2)\n",
    "\n",
    "plt.scatter(X[:,0], X[:,1], c=y)"
   ]
  },
  {
   "cell_type": "markdown",
   "metadata": {},
   "source": [
    "Далее будем анализировать Ваш алгоритм. \n",
    "Для этих заданий используйте датасет ниже."
   ]
  },
  {
   "cell_type": "code",
   "execution_count": 247,
   "metadata": {},
   "outputs": [],
   "source": [
    "from sklearn.datasets import make_classification"
   ]
  },
  {
   "cell_type": "code",
   "execution_count": 248,
   "metadata": {},
   "outputs": [],
   "source": [
    "X, y = make_classification(n_samples=100000, n_features=10, \n",
    "                           n_informative=4, n_redundant=0, \n",
    "                           random_state=123, class_sep=1.0,\n",
    "                           n_clusters_per_class=1)"
   ]
  },
  {
   "cell_type": "markdown",
   "metadata": {},
   "source": [
    "Покажите сходимости обеих регрессией на этом датасете: изобразите график  функции потерь, усредненной по $N$ шагам градиентого спуска, для разных `alpha` (размеров шага). Разные `alpha` расположите на одном графике. \n",
    "\n",
    "$N$ можно брать 10, 50, 100 и т.д. "
   ]
  },
  {
   "cell_type": "code",
   "execution_count": 157,
   "metadata": {},
   "outputs": [
    {
     "data": {
      "image/png": "[encoded data removed]",
      "text/plain": [
       "<Figure size 720x360 with 1 Axes>"
      ]
     },
     "metadata": {},
     "output_type": "display_data"
    }
   ],
   "source": [
    "plt.figure(figsize=(10, 5))\n",
    "N = 1000\n",
    "alpha = [0.0001, 0.001, 0.01, 0.1]\n",
    "for a in alpha:\n",
    "    clf = MySGDClassifier(batch_generator, alpha=a, C=1000, model_type='log_reg', max_epoch=10, batch_size=20)\n",
    "    clf.fit(X, y)\n",
    "    m = []\n",
    "    for i in range(len(clf.errors_log['loss']) // N):\n",
    "        m.append(np.mean(clf.errors_log['loss'][i * N : (i + 1) * N]))\n",
    "    plt.plot(np.arange(len(m)), m, label='alpha = {}'.format(a))\n",
    "plt.legend()\n",
    "plt.ylim([0, 0.7])\n",
    "plt.show()"
   ]
  },
  {
   "cell_type": "code",
   "execution_count": 158,
   "metadata": {},
   "outputs": [
    {
     "data": {
      "image/png": "[encoded data removed]",
      "text/plain": [
       "<Figure size 720x360 with 1 Axes>"
      ]
     },
     "metadata": {},
     "output_type": "display_data"
    }
   ],
   "source": [
    "plt.figure(figsize=(10, 5))\n",
    "N = 1000\n",
    "alpha = [0.0001, 0.001, 0.01, 0.1]\n",
    "for a in alpha:\n",
    "    clf = MySGDClassifier(batch_generator, alpha=a, C=1000, model_type='lin_reg', max_epoch=10, batch_size=20)\n",
    "    clf.fit(X, y)\n",
    "    m = []\n",
    "    for i in range(len(clf.errors_log['loss']) // N):\n",
    "        m.append(np.mean(clf.errors_log['loss'][i * N : (i + 1) * N]))\n",
    "    plt.plot(np.arange(len(m)), m, label='alpha = {}'.format(a))\n",
    "plt.legend()\n",
    "plt.show()"
   ]
  },
  {
   "cell_type": "markdown",
   "metadata": {},
   "source": [
    "Что Вы можете сказать про сходимость метода при различных `alpha`? Какое значение стоит выбирать для лучшей сходимости?"
   ]
  },
  {
   "cell_type": "markdown",
   "metadata": {},
   "source": [
    "При большом альфа функция будет отклоняться дальше от локального минимума, но быстрее сходится. Поэтому на первых итерациях лучше использовать большой шаг, а потом меньше."
   ]
  },
  {
   "cell_type": "markdown",
   "metadata": {},
   "source": [
    "Изобразите график среднего значения весов для обеих регрессий в зависимости от коеф. регуляризации С из `np.logspace(3, -3, 10)` "
   ]
  },
  {
   "cell_type": "code",
   "execution_count": 159,
   "metadata": {
    "scrolled": true
   },
   "outputs": [
    {
     "data": {
      "image/png": "[encoded data removed]",
      "text/plain": [
       "<Figure size 720x360 with 1 Axes>"
      ]
     },
     "metadata": {},
     "output_type": "display_data"
    }
   ],
   "source": [
    "plt.figure(figsize=(10, 5))\n",
    "constreg = np.logspace(3, -3, 10)\n",
    "yy = []\n",
    "for i, c in enumerate(constreg):\n",
    "    clf = MySGDClassifier(batch_generator, C=c, model_type='log_reg', max_epoch=100, batch_size=20, alpha=0.0001)\n",
    "    clf.fit(X, y)\n",
    "    yy.append(np.mean(clf.weights))\n",
    "plt.plot(np.arange(len(yy)), yy, label='mean weights')\n",
    "plt.legend()\n",
    "plt.show()"
   ]
  },
  {
   "cell_type": "code",
   "execution_count": 160,
   "metadata": {},
   "outputs": [
    {
     "data": {
      "image/png": "[encoded data removed]",
      "text/plain": [
       "<Figure size 720x360 with 1 Axes>"
      ]
     },
     "metadata": {},
     "output_type": "display_data"
    },
    {
     "name": "stdout",
     "output_type": "stream",
     "text": [
      "[0.0341052630038627, 0.03427077772808285, 0.0347789374666033, 0.03580284753871133, 0.03175360132552111, 0.01647453399886886, 0.004841057766346867, 0.0010729309466453087, 0.00019755197223273908, 3.8998904611848105e-05]\n"
     ]
    }
   ],
   "source": [
    "plt.figure(figsize=(10, 5))\n",
    "constreg = np.logspace(3, -3, 10)\n",
    "yy = []\n",
    "for i, c in enumerate(constreg):\n",
    "    clf = MySGDClassifier(batch_generator, C=c, model_type='lin_reg', max_epoch=100, batch_size=20, alpha=0.0001)\n",
    "    clf.fit(X, y)\n",
    "    yy.append(np.mean(clf.weights))\n",
    "plt.plot(np.arange(len(yy)), yy, label='mean weights')\n",
    "plt.legend()\n",
    "plt.show()\n",
    "print(yy)"
   ]
  },
  {
   "cell_type": "markdown",
   "metadata": {},
   "source": [
    "Довольны ли Вы, насколько сильно уменьшились Ваши веса? "
   ]
  },
  {
   "cell_type": "markdown",
   "metadata": {},
   "source": [
    "# Боевое применение (3  балла)"
   ]
  },
  {
   "cell_type": "markdown",
   "metadata": {},
   "source": [
    "Давайте применим модель на итоговом проекте! Датасет сделаем точно таким же образом, как было показано в project_overview-2.ipynb\n",
    "\n",
    "Применим обе регрессии, подберем для них параметры и сравним качество. Может быть Вы еще одновременно с решением домашней работы подрастете на лидерборде!"
   ]
  },
  {
   "cell_type": "code",
   "execution_count": 351,
   "metadata": {},
   "outputs": [
    {
     "name": "stdout",
     "output_type": "stream",
     "text": [
      "28026\n"
     ]
    }
   ],
   "source": [
    "doc_to_title = {}\n",
    "with open('anomaly-detection-competition-ml1-ts-spring-2019/docs_titles.tsv') as f:\n",
    "    for num_line, line in enumerate(f):\n",
    "        if num_line == 0:\n",
    "            continue\n",
    "        data = line.strip().split('\\t', 1)\n",
    "        doc_id = int(data[0])\n",
    "        if len(data) == 1:\n",
    "            title = ''\n",
    "        else:\n",
    "            title = data[1]\n",
    "        doc_to_title[doc_id] = title\n",
    "print (len(doc_to_title))\n"
   ]
  },
  {
   "cell_type": "code",
   "execution_count": 352,
   "metadata": {},
   "outputs": [],
   "source": [
    "import pandas as pd\n",
    "train_data = pd.read_csv('anomaly-detection-competition-ml1-ts-spring-2019/train_groups.csv')\n",
    "traingroups_titledata = {}\n",
    "for i in range(len(train_data)):\n",
    "    new_doc = train_data.iloc[i]\n",
    "    doc_group = new_doc['group_id']\n",
    "    doc_id = new_doc['doc_id']\n",
    "    target = new_doc['target']\n",
    "    title = doc_to_title[doc_id]\n",
    "    if doc_group not in traingroups_titledata:\n",
    "        traingroups_titledata[doc_group] = []\n",
    "    traingroups_titledata[doc_group].append((doc_id, title, target))\n"
   ]
  },
  {
   "cell_type": "code",
   "execution_count": 353,
   "metadata": {},
   "outputs": [
    {
     "name": "stdout",
     "output_type": "stream",
     "text": [
      "(11690, 15) (11690,) (11690,)\n"
     ]
    }
   ],
   "source": [
    "import numpy as np\n",
    "y_train = []\n",
    "X_train = []\n",
    "groups_train = []\n",
    "for new_group in traingroups_titledata:\n",
    "    docs = traingroups_titledata[new_group]\n",
    "    for k, (doc_id, title, target_id) in enumerate(docs):\n",
    "        y_train.append(target_id)\n",
    "        groups_train.append(new_group)\n",
    "        all_dist = []\n",
    "        words = set(title.strip().split())\n",
    "        for j in range(0, len(docs)):\n",
    "            if k == j:\n",
    "                continue\n",
    "            doc_id_j, title_j, target_j = docs[j]\n",
    "            words_j = set(title_j.strip().split())\n",
    "            all_dist.append(len(words.intersection(words_j)))\n",
    "        X_train.append(sorted(all_dist, reverse=True)[0:15]    )\n",
    "X_train = np.array(X_train)\n",
    "y_train = np.array(y_train)\n",
    "groups_train = np.array(groups_train)\n",
    "print (X_train.shape, y_train.shape, groups_train.shape)\n"
   ]
  },
  {
   "cell_type": "code",
   "execution_count": 354,
   "metadata": {},
   "outputs": [
    {
     "name": "stdout",
     "output_type": "stream",
     "text": [
      "[[4 4 3 ... 2 1 1]\n",
      " [8 7 7 ... 2 2 2]\n",
      " [2 2 2 ... 1 1 1]\n",
      " ...\n",
      " [0 0 0 ... 0 0 0]\n",
      " [6 2 1 ... 1 1 1]\n",
      " [3 2 2 ... 1 1 1]]\n"
     ]
    }
   ],
   "source": [
    "print(X_train)"
   ]
  },
  {
   "cell_type": "markdown",
   "metadata": {},
   "source": [
    "Подберите размер батча для обучения. Линейная модель не должна учиться дольше нескольких минут. \n",
    "\n",
    "Не забывайте использовать скейлер!"
   ]
  },
  {
   "cell_type": "code",
   "execution_count": 2,
   "metadata": {},
   "outputs": [],
   "source": [
    "from sklearn.metrics import f1_score\n",
    "from sklearn.linear_model import LinearRegression\n",
    "from sklearn.preprocessing import StandardScaler"
   ]
  },
  {
   "cell_type": "code",
   "execution_count": 356,
   "metadata": {},
   "outputs": [
    {
     "name": "stdout",
     "output_type": "stream",
     "text": [
      "90\n"
     ]
    }
   ],
   "source": [
    "print(int(groups_train[-1] * 0.7))"
   ]
  },
  {
   "cell_type": "code",
   "execution_count": 357,
   "metadata": {},
   "outputs": [
    {
     "name": "stdout",
     "output_type": "stream",
     "text": [
      "(3616, 15) (3616,) (8074, 15) (8074,)\n"
     ]
    },
    {
     "name": "stderr",
     "output_type": "stream",
     "text": [
      "/home/serega/anaconda3/lib/python3.7/site-packages/sklearn/utils/validation.py:595: DataConversionWarning: Data with input dtype int64 was converted to float64 by StandardScaler.\n",
      "  warnings.warn(msg, DataConversionWarning)\n",
      "/home/serega/anaconda3/lib/python3.7/site-packages/sklearn/utils/validation.py:595: DataConversionWarning: Data with input dtype int64 was converted to float64 by StandardScaler.\n",
      "  warnings.warn(msg, DataConversionWarning)\n"
     ]
    }
   ],
   "source": [
    "scaler = StandardScaler()\n",
    "scaler.fit(X_train)\n",
    "X_train = scaler.transform(X_train)\n",
    "y_train1 =[]\n",
    "X_train1 =[]\n",
    "y_test =[]\n",
    "X_test =[]\n",
    "for i in range(groups_train.shape[0]):\n",
    "    if groups_train[i] > int(groups_train[-1] * 0.7):\n",
    "        X_test.append(X_train[i])\n",
    "        y_test.append(y_train[i])\n",
    "    else:\n",
    "        X_train1.append(X_train[i])\n",
    "        y_train1.append(y_train[i])\n",
    "y_train1 = np.array(y_train1)\n",
    "X_train1 = np.array(X_train1)\n",
    "y_test = np.array(y_test)\n",
    "X_test = np.array(X_test)\n",
    "print(X_test.shape, y_test.shape, X_train1.shape, y_train1.shape)"
   ]
  },
  {
   "cell_type": "code",
   "execution_count": 358,
   "metadata": {},
   "outputs": [
    {
     "name": "stdout",
     "output_type": "stream",
     "text": [
      "0.6344086021505376 0.0001 10 10 1\n"
     ]
    },
    {
     "name": "stderr",
     "output_type": "stream",
     "text": [
      "/home/serega/anaconda3/lib/python3.7/site-packages/ipykernel_launcher.py:47: RuntimeWarning: divide by zero encountered in log\n",
      "/home/serega/anaconda3/lib/python3.7/site-packages/ipykernel_launcher.py:47: RuntimeWarning: invalid value encountered in multiply\n"
     ]
    },
    {
     "name": "stdout",
     "output_type": "stream",
     "text": [
      "0.6541832669322709 0.0001 10 10 40\n",
      "0.6595918367346939 0.0001 10 10 250\n",
      "0.6574787190920146 0.0001 10 10 1000\n",
      "0.6311827956989248 0.0001 10 20 1\n",
      "0.6567043618739903 0.0001 10 20 40\n",
      "0.6502311248073961 0.0001 10 20 250\n",
      "0.6489028213166144 0.0001 10 20 1000\n",
      "0.6331012319228709 0.0001 10 30 1\n",
      "0.6590538336052202 0.0001 10 30 40\n",
      "0.6492187500000001 0.0001 10 30 250\n",
      "0.6560509554140127 0.0001 10 30 1000\n",
      "0.6001109262340544 0.0001 100 10 1\n",
      "0.6499614494988435 0.0001 100 10 40\n",
      "0.6561996779388084 0.0001 100 10 250\n",
      "0.6483558994197293 0.0001 100 10 1000\n",
      "0.5893060295790671 0.0001 100 20 1\n",
      "0.660670482420278 0.0001 100 20 40\n",
      "0.6549660949341843 0.0001 100 20 250\n",
      "0.6523809523809524 0.0001 100 20 1000\n",
      "0.587564175698802 0.0001 100 30 1\n",
      "0.6622240733027904 0.0001 100 30 40\n",
      "0.6519337016574585 0.0001 100 30 250\n",
      "0.6441598758246022 0.0001 100 30 1000\n",
      "0.5986547085201793 0.0001 1000 10 1\n",
      "0.6619718309859156 0.0001 1000 10 40\n",
      "0.6468517794290184 0.0001 1000 10 250\n",
      "0.6421329327825761 0.0001 1000 10 1000\n",
      "0.588370754173863 0.0001 1000 20 1\n",
      "0.6567284448025786 0.0001 1000 20 40\n",
      "0.6496062992125985 0.0001 1000 20 250\n",
      "0.6532702915681639 0.0001 1000 20 1000\n",
      "0.578977599080988 0.0001 1000 30 1\n",
      "0.6551993745113369 0.0001 1000 30 40\n",
      "0.6548100242522232 0.0001 1000 30 250\n",
      "0.6555819477434679 0.0001 1000 30 1000\n",
      "0.6344253770150806 0.01 10 10 1\n",
      "0.6296495956873316 0.01 10 10 40\n",
      "0.6532865027596589 0.01 10 10 250\n",
      "0.6578313253012048 0.01 10 10 1000\n",
      "0.6491935483870968 0.01 10 20 1\n",
      "0.6251354279523293 0.01 10 20 40\n",
      "0.6376657824933687 0.01 10 20 250\n",
      "0.6579170194750212 0.01 10 20 1000\n",
      "0.4841012329656067 0.01 10 30 1\n",
      "0.6163108921729611 0.01 10 30 40\n",
      "0.6313536650615301 0.01 10 30 250\n",
      "0.6633027522935779 0.01 10 30 1000\n",
      "0.08984725965858041 0.01 100 10 1\n",
      "0.5835726593911545 0.01 100 10 40\n",
      "0.6491228070175439 0.01 100 10 250\n",
      "0.6552845528455283 0.01 100 10 1000\n",
      "0.6316928069226609 0.01 100 20 1\n",
      "0.5800115540150202 0.01 100 20 40\n",
      "0.6180631120783461 0.01 100 20 250\n",
      "0.671602787456446 0.01 100 20 1000\n",
      "0.08333333333333333 0.01 100 30 1\n",
      "0.5978567399887196 0.01 100 30 40\n",
      "0.5954545454545455 0.01 100 30 250\n",
      "0.6586538461538461 0.01 100 30 1000\n",
      "0.5535714285714286 0.01 1000 10 1\n",
      "0.5842824601366742 0.01 1000 10 40\n",
      "0.6396989651928504 0.01 1000 10 250\n",
      "0.6526994359387591 0.01 1000 10 1000\n",
      "0.3734679163662581 0.01 1000 20 1\n",
      "0.5599527466036621 0.01 1000 20 40\n",
      "0.5948081264108352 0.01 1000 20 250\n",
      "0.6543157894736843 0.01 1000 20 1000\n",
      "0.5970319634703197 0.01 1000 30 1\n",
      "0.567234292425132 0.01 1000 30 40\n",
      "0.5840000000000001 0.01 1000 30 250\n",
      "0.6574307304785894 0.01 1000 30 1000\n",
      "0.6569548872180451 0.1 10 10 1\n",
      "0.6207264957264957 0.1 10 10 40\n",
      "0.64375 0.1 10 10 250\n",
      "0.6237942122186495 0.1 10 10 1000\n",
      "0.0443213296398892 0.1 10 20 1\n",
      "0.6139483800109831 0.1 10 20 40\n",
      "0.6410526315789473 0.1 10 20 250\n",
      "0.645127670661803 0.1 10 20 1000\n",
      "0.6660877116804169 0.1 10 30 1\n",
      "0.6427457098283932 0.1 10 30 40\n",
      "0.6461222393425784 0.1 10 30 250\n",
      "0.5765870704717531 0.1 10 30 1000\n",
      "0.6660800703915529 0.1 100 10 1\n",
      "0.6118166758696852 0.1 100 10 40\n",
      "0.5847750865051904 0.1 100 10 250\n",
      "0.5818392134181608 0.1 100 10 1000\n",
      "0.06119162640901771 0.1 100 20 1\n",
      "0.5889781859931115 0.1 100 20 40\n",
      "0.5856733524355301 0.1 100 20 250\n",
      "0.596629213483146 0.1 100 20 1000\n",
      "0.6558441558441559 0.1 100 30 1\n",
      "0.5919180421172453 0.1 100 30 40\n",
      "0.6089354660783232 0.1 100 30 250\n",
      "0.5886402753872634 0.1 100 30 1000\n",
      "0.5970636215334422 0.1 1000 10 1\n",
      "0.6006674082313682 0.1 1000 10 40\n",
      "0.6048071548351033 0.1 1000 10 250\n",
      "0.5793742757821554 0.1 1000 10 1000\n",
      "0.2398316970546985 0.1 1000 20 1\n",
      "0.6352567496029644 0.1 1000 20 40\n",
      "0.579861111111111 0.1 1000 20 250\n",
      "0.5719298245614035 0.1 1000 20 1000\n",
      "0.635532994923858 0.1 1000 30 1\n",
      "0.5599527466036621 0.1 1000 30 40\n",
      "0.5828571428571429 0.1 1000 30 250\n",
      "0.6058921623123958 0.1 1000 30 1000\n",
      "{'a': 0.01, 'c': 100, 'epoch': 20, 'batch': 1000, 'score': 0.671602787456446}\n"
     ]
    }
   ],
   "source": [
    "a1=[0.0001, 0.01, 0.1]\n",
    "C1=[10, 100, 1000]\n",
    "epoch=[10, 20, 30]\n",
    "batchs=[1, 40, 250, 1000]\n",
    "max = {\"a\": 0,\n",
    "       \"c\": 0,\n",
    "       \"epoch\": 0,\n",
    "       \"batch\": 0,\n",
    "       \"score\": 0,\n",
    "      }\n",
    "for a in a1:\n",
    "    for c in C1:\n",
    "        for e in epoch:\n",
    "            for batch in batchs:\n",
    "                myclf = MySGDClassifier(batch_generator, alpha=a, C=c,max_epoch=e, model_type='log_reg', batch_size=batch)\n",
    "                myclf.fit(X_train1, y_train1)\n",
    "                temp = f1_score(y_test, myclf.predict(X_test))\n",
    "                if temp > max[\"score\"]:\n",
    "                    max[\"a\"] = a\n",
    "                    max[\"c\"] = c\n",
    "                    max[\"epoch\"] = e\n",
    "                    max[\"batch\"] = batch\n",
    "                    max[\"score\"] = temp\n",
    "                print(f1_score(y_test, myclf.predict(X_test)), a, c, e, batch)\n",
    "                \n",
    "print(max)"
   ]
  },
  {
   "cell_type": "markdown",
   "metadata": {},
   "source": [
    "Разбейте данные на обучение и валидацию. Подберите параметры C, alpha, max_epoch, model_type на валидации (Вы же помните, как правильно в этой задаче делать валидацию?)"
   ]
  },
  {
   "cell_type": "code",
   "execution_count": 365,
   "metadata": {},
   "outputs": [
    {
     "data": {
      "text/plain": [
       "MySGDClassifier(C=100, alpha=0.01,\n",
       "        batch_generator=<function batch_generator at 0x7f15df815e18>,\n",
       "        batch_size=1000, max_epoch=20, model_type='log_reg')"
      ]
     },
     "execution_count": 365,
     "metadata": {},
     "output_type": "execute_result"
    }
   ],
   "source": [
    "myclf = MySGDClassifier(batch_generator, alpha=0.01, C=100, max_epoch=20, model_type='log_reg', batch_size=1000)\n",
    "myclf.fit(X_train1, y_train1)"
   ]
  },
  {
   "cell_type": "code",
   "execution_count": 366,
   "metadata": {},
   "outputs": [
    {
     "name": "stdout",
     "output_type": "stream",
     "text": [
      "28026\n"
     ]
    }
   ],
   "source": [
    "doc_to_title = {}\n",
    "with open('anomaly-detection-competition-ml1-ts-spring-2019/docs_titles.tsv') as f:\n",
    "    for num_line, line in enumerate(f):\n",
    "        if num_line == 0:\n",
    "            continue\n",
    "        data = line.strip().split('\\t', 1)\n",
    "        doc_id = int(data[0])\n",
    "        if len(data) == 1:\n",
    "            title = ''\n",
    "        else:\n",
    "            title = data[1]\n",
    "        doc_to_title[doc_id] = title\n",
    "print (len(doc_to_title))\n"
   ]
  },
  {
   "cell_type": "code",
   "execution_count": 367,
   "metadata": {},
   "outputs": [],
   "source": [
    "import pandas as pd\n",
    "train_data = pd.read_csv('anomaly-detection-competition-ml1-ts-spring-2019/test_groups.csv')\n",
    "traingroups_titledata = {}\n",
    "for i in range(len(train_data)):\n",
    "    new_doc = train_data.iloc[i]\n",
    "    doc_group = new_doc['group_id']\n",
    "    doc_id = new_doc['doc_id']\n",
    "    title = doc_to_title[doc_id]\n",
    "    if doc_group not in traingroups_titledata:\n",
    "        traingroups_titledata[doc_group] = []\n",
    "    traingroups_titledata[doc_group].append((doc_id, title, target))"
   ]
  },
  {
   "cell_type": "code",
   "execution_count": 368,
   "metadata": {},
   "outputs": [
    {
     "name": "stdout",
     "output_type": "stream",
     "text": [
      "(16627, 15) (16627,)\n"
     ]
    },
    {
     "name": "stderr",
     "output_type": "stream",
     "text": [
      "/home/serega/anaconda3/lib/python3.7/site-packages/sklearn/utils/validation.py:595: DataConversionWarning: Data with input dtype int64 was converted to float64 by StandardScaler.\n",
      "  warnings.warn(msg, DataConversionWarning)\n",
      "/home/serega/anaconda3/lib/python3.7/site-packages/sklearn/utils/validation.py:595: DataConversionWarning: Data with input dtype int64 was converted to float64 by StandardScaler.\n",
      "  warnings.warn(msg, DataConversionWarning)\n"
     ]
    }
   ],
   "source": [
    "import numpy as np\n",
    "X_test = []\n",
    "groups_train = []\n",
    "for new_group in traingroups_titledata:\n",
    "    docs = traingroups_titledata[new_group]\n",
    "    for k, (doc_id, title, target_id) in enumerate(docs):\n",
    "        groups_train.append(new_group)\n",
    "        all_dist = []\n",
    "        words = set(title.strip().split())\n",
    "        for j in range(0, len(docs)):\n",
    "            if k == j:\n",
    "                continue\n",
    "            doc_id_j, title_j, target_j = docs[j]\n",
    "            words_j = set(title_j.strip().split())\n",
    "            all_dist.append(len(words.intersection(words_j)))\n",
    "        X_test.append(sorted(all_dist, reverse=True)[0:15]    )\n",
    "X_test = np.array(X_test)\n",
    "scaler = StandardScaler()\n",
    "scaler.fit(X_test)\n",
    "X_test = scaler.transform(X_test)\n",
    "groups_train = np.array(groups_train)\n",
    "print (X_test.shape, groups_train.shape)"
   ]
  },
  {
   "cell_type": "code",
   "execution_count": 369,
   "metadata": {},
   "outputs": [
    {
     "name": "stdout",
     "output_type": "stream",
     "text": [
      "[-0.12211026  0.21469162 -0.08574117  0.40043077  0.37451088  0.00485936\n",
      " -0.25143315 -0.25473728  0.35203079 -0.24984317  0.65424154  0.02696945\n",
      "  0.14902841 -0.05401187 -0.2166095   0.41616645]\n"
     ]
    }
   ],
   "source": [
    "print(myclf.weights)"
   ]
  },
  {
   "cell_type": "code",
   "execution_count": 370,
   "metadata": {},
   "outputs": [
    {
     "name": "stdout",
     "output_type": "stream",
     "text": [
      "5946\n"
     ]
    }
   ],
   "source": [
    "import pandas as pd\n",
    "y = myclf.predict(X_test)\n",
    "print((y == True).sum())\n",
    "temp = []\n",
    "for i in range(len(train_data)):\n",
    "    new_doc = train_data.iloc[i]\n",
    "    pair_id = new_doc['pair_id']\n",
    "    temp.append(pair_id)\n",
    "frame = pd.DataFrame({'pair_id' : temp,\n",
    "                      'target': y})\n",
    "frame.to_csv(\"answer.csv\",columns=['pair_id','target'],index = False)\n"
   ]
  },
  {
   "cell_type": "code",
   "execution_count": null,
   "metadata": {},
   "outputs": [],
   "source": []
  },
  {
   "cell_type": "markdown",
   "metadata": {},
   "source": [
    "С лучшими параметрами на валидации сделайте предсказание на тестовом множестве, отправьте его на проверку на платформу kaggle. Убедитесь, что Вы смогли побить public score первого бейзлайна. Если да, то Вы молодец!"
   ]
  },
  {
   "cell_type": "markdown",
   "metadata": {},
   "source": [
    "# Контрольные вопросы\n",
    "Постарайтесь максимально развернуто и честно ответить на вопросы. Они охватывают тему линейных моделей и скорее нужны преподавателям, чтобы понимать, что именно Вы усвоили плохо. Надеюсь, они подскажут, что именно в теме Вы не понимаете или наоборот порадают, что Вы все знаете ^_^"
   ]
  },
  {
   "cell_type": "markdown",
   "metadata": {},
   "source": [
    "* Опишите основные, на Ваш взгляд,  отличия логистической регрессии от линейной регрессии. Почему, на ваш взгляд, задачу классификации решают логистической, а не линейной регрессией?"
   ]
  },
  {
   "cell_type": "markdown",
   "metadata": {},
   "source": [
    "Линейная регрессия не ограничена в величине предсказание и может иметь любое вещественное значение, которое трудно интерпретировать. Логистическая регрессия возвращает значение от 0 до 1, которое можно расценивать как вероятность."
   ]
  },
  {
   "cell_type": "markdown",
   "metadata": {},
   "source": [
    "* Как Вы думаете, для каких типов задач (объем данных, число признаков, типы признаков) стоит отдавать предпочтение линейным моделям?"
   ]
  },
  {
   "cell_type": "markdown",
   "metadata": {},
   "source": [
    "Если данные можно разделить с помощью прямой, то лучше отдавать предпочтение линейным моделям.\n",
    "Так же линейные модели подойдут, когда признаки вещественные и их большое количество.\n"
   ]
  },
  {
   "cell_type": "markdown",
   "metadata": {},
   "source": [
    "* Пусть на обучении мы имеем выборку размера $N$, число признаков $D$. Чему равна алгоритмическая сложность одного шага градиентного спуска? Cтохастического градиентного спуска?  Сложность предсказания на одном объекте?"
   ]
  },
  {
   "cell_type": "markdown",
   "metadata": {},
   "source": [
    "Сложность одного шага градиентного спуска = $O(ND)$\n",
    "\n",
    "Сложность стохастического $O(D)$\n",
    "\n",
    "Сложность предсказания $O(D)$"
   ]
  },
  {
   "cell_type": "markdown",
   "metadata": {},
   "source": [
    "* В чем преимущества стохастического градиентного спуска (в том числе мини-батч) над обычным градиентным спуском? В чем его недостатки? Рассмотрите несколько аспектов $-$ скорость сходимости, необходимость загрузки всех данных в оперативную память, сложность вычисления одного шага."
   ]
  },
  {
   "cell_type": "markdown",
   "metadata": {},
   "source": [
    "В стохастическом градиентном спуске каждая итерация пересчета весов происходитбыстрее, т.к. градиент надо считать по одному(нескольким) объекту из выборки,соответственно нет необходимости загружать всю выборку в оперативную память. Может потребоваться больше шагов стохастического градиентного спуска, но они могут занять меньше времени.\n",
    "При обычном градиентном спуске все эти преимущества исчезают, но мы точно двигаемся в локальный минимум, в то время как при стохастическом мы может немного ошибиться."
   ]
  },
  {
   "cell_type": "markdown",
   "metadata": {},
   "source": [
    "* Как Вы думаете, при обучении линейной модели с помощью SGD, ошибку на новом объекте стоит считать до итерации спуска на этом объекте или после? Почему Вы так думаете? Возможно, Вам будет интересно ознакомиться с http://hunch.net/~jl/projects/prediction_bounds/thesis/mathml/thesisse44.xml"
   ]
  },
  {
   "cell_type": "markdown",
   "metadata": {},
   "source": [
    "До итерации спуска. Потому что это показывает на сколько бы ошибилась наша модель на этом объекте, если бы он был уже из тестовой выборки\n"
   ]
  },
  {
   "cell_type": "markdown",
   "metadata": {},
   "source": [
    "* Как Вы думаете, во времена такого бума нейронных сетей, остаются ли популярными линейные модели, или это уже пережиток прошлого? Почему Вы так думаете?"
   ]
  },
  {
   "cell_type": "markdown",
   "metadata": {},
   "source": [
    "Линейные модели очень просты, и хорошо подходят, как начальный вариант от которого можно двигаться дальше"
   ]
  },
  {
   "cell_type": "markdown",
   "metadata": {},
   "source": [
    "* Какие аспекты обучения линейных моделей Вам показались непонятными? Какое место стоит дополнительно объяснить?"
   ]
  },
  {
   "cell_type": "markdown",
   "metadata": {},
   "source": [
    "Здесь Вы можете оставить отзыв о этой домашней работе или о всем курсе.   "
   ]
  },
  {
   "cell_type": "markdown",
   "metadata": {},
   "source": [
    "*** ВАШ ОТЗЫВ ЗДЕСЬ***"
   ]
  },
  {
   "cell_type": "code",
   "execution_count": null,
   "metadata": {},
   "outputs": [],
   "source": []
  },
  {
   "cell_type": "code",
   "execution_count": null,
   "metadata": {},
   "outputs": [],
   "source": []
  }
 ],
 "metadata": {
  "anaconda-cloud": {},
  "kernelspec": {
   "display_name": "Python 3",
   "language": "python",
   "name": "python3"
  },
  "language_info": {
   "codemirror_mode": {
    "name": "ipython",
    "version": 3
   },
   "file_extension": ".py",
   "mimetype": "text/x-python",
   "name": "python",
   "nbconvert_exporter": "python",
   "pygments_lexer": "ipython3",
   "version": "3.7.1"
  },
  "nav_menu": {},
  "toc": {
   "colors": {
    "hover_highlight": "#DAA520",
    "navigate_num": "#000000",
    "navigate_text": "#333333",
    "running_highlight": "#FF0000",
    "selected_highlight": "#FFD700",
    "sidebar_border": "#EEEEEE",
    "wrapper_background": "#FFFFFF"
   },
   "moveMenuLeft": true,
   "nav_menu": {
    "height": "402px",
    "width": "253px"
   },
   "navigate_menu": true,
   "number_sections": false,
   "sideBar": true,
   "threshold": 4,
   "toc_cell": false,
   "toc_section_display": "block",
   "toc_window_display": true,
   "widenNotebook": false
  }
 },
 "nbformat": 4,
 "nbformat_minor": 2
}
