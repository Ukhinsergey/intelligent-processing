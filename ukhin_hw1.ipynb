{
 "cells": [
  {
   "cell_type": "markdown",
   "metadata": {},
   "source": [
    "**Общая информация**\n",
    "\n",
    "**Срок сдачи:** 20 марта 2019, 06:00 <br\\>\n",
    "**Штраф за опоздание:** -1 балл после 06:00 20 марта, -2 балла после 06:00 27 марта, -3 балла после 06:00 3 апреля\n",
    "\n",
    "При отправлении ДЗ указывайте фамилию в названии файла\n",
    "Присылать ДЗ необходимо в виде ссылки на свой github репозиторий в slack @alkhamush\n",
    "\n",
    "Необходимо в slack скинуть ссылку в личный чат @alkhamush\n",
    "Пример ссылки:\n",
    "https://github.com/stroykova/spheremailru/stroykova_hw1.ipynb \n",
    "\n",
    "\n",
    "Используйте данный Ipython Notebook при оформлении домашнего задания."
   ]
  },
  {
   "cell_type": "markdown",
   "metadata": {},
   "source": [
    "###### Задание 1 (2 баллов)\n",
    "Реализовать KNN в классе MyKNeighborsClassifier (обязательное условие: точность не ниже sklearn реализации)\n",
    "Разберитесь самостоятельно, какая мера расстояния используется в KNeighborsClassifier дефолтно и реализуйте свой алгоритм именно с этой мерой. Самостоятельно разберитесь, как считается score из KNeighborsClassifier и реализуйте аналог в своём классе. Score не должен уступать значению KNN из sklearn\n",
    "\n",
    "###### Задание 2 (2 балла)\n",
    "Добиться скорости работы на fit,  predict и predict_proba сравнимой со sklearn для iris и mnist\n",
    "Для этого используем numpy\n",
    "\n",
    "###### Задание 3 (2 балла)\n",
    "Для iris найдите такой параметр n_neighbors, при котором выдаётся наилучший score. Нарисуйте график зависимости score от n_neighbors\n",
    "\n",
    "###### Задание 4 (3 балла)\n",
    "Добавить algorithm='kd_tree' в реализацию KNN (использовать KDTree из sklearn.neighbors). Значение n_neighbors нужно взять из задания 3. Добиться скорости работы на fit,  predict и predict_proba сравнимой со sklearn для iris и mnist\n",
    "Для этого используем numpy. Score не должен уступать значению KNN из sklearn\n",
    "\n",
    "###### Задание 5 (1 балла)\n",
    "Описать для чего нужны следующие библиотеки/классы/функции (список будет ниже)\n",
    "\n",
    "**Штрафные баллы:**\n",
    "\n",
    "1. Невыполнение PEP8 -1 балл\n",
    "2. Отсутствие фамилии в имени скрипта (скрипт должен называться по аналогии со stroykova_hw1.ipynb) -1 балл\n",
    "3. Все строчки должны быть выполнены. Нужно, чтобы output команды можно было увидеть уже в git'е. В противном случае -1 балл\n",
    "4. При оформлении ДЗ нужно пользоваться данным файлом в качестве шаблона. Не нужно удалять и видоизменять структуру кода и текст. В противном случае -1 балл\n"
   ]
  },
  {
   "cell_type": "code",
   "execution_count": 1,
   "metadata": {},
   "outputs": [],
   "source": [
    "import numpy as np\n",
    "import matplotlib.pyplot as plt\n",
    "\n",
    "import seaborn as sns\n",
    "from sklearn import datasets\n",
    "from sklearn.base import ClassifierMixin\n",
    "from sklearn.datasets import fetch_mldata\n",
    "from sklearn.neighbors.base import NeighborsBase, KNeighborsMixin, SupervisedIntegerMixin \n",
    "from sklearn.model_selection import train_test_split\n",
    "from sklearn.neighbors import KNeighborsClassifier\n",
    "%load_ext pycodestyle_magic"
   ]
  },
  {
   "cell_type": "code",
   "execution_count": 2,
   "metadata": {},
   "outputs": [],
   "source": [
    "#%%pycodestyle\n",
    "\n",
    "from sklearn.neighbors import KDTree\n",
    "from sklearn.metrics import pairwise_distances_chunked as pdc\n",
    "\n",
    "\n",
    "class MyKNeighborsClassifier(NeighborsBase, KNeighborsMixin,\n",
    "                             SupervisedIntegerMixin, ClassifierMixin):\n",
    "    def __init__(self, n_neighbors, algorithm='brute'):\n",
    "        self.n_neighbors = n_neighbors\n",
    "        self.algorithm = algorithm\n",
    "\n",
    "    def fit(self, X, y):\n",
    "        self.y = np.array(y)\n",
    "        if self.algorithm == 'kd_tree':\n",
    "            self.X = KDTree(X)\n",
    "        if self.algorithm == 'brute':\n",
    "            self.X = np.array(X)\n",
    "        return self\n",
    "\n",
    "    def reduce_func(self, chunk, start):\n",
    "        return self.y[np.argpartition\n",
    "                      (chunk, self.n_neighbors, axis=1)[:, :self.n_neighbors]]\n",
    "\n",
    "    def predict(self, X):\n",
    "        if self.algorithm == 'brute':\n",
    "            dist = list(pdc(X, self.X, reduce_func=self.reduce_func))[0]\n",
    "        if self.algorithm == 'kd_tree':\n",
    "            dist = self.y[self.X.query\n",
    "                          (X, k=self.n_neighbors, return_distance=False)]\n",
    "        u, indices = np.unique(dist, return_inverse=True)\n",
    "        return u[np.argmax(np.apply_along_axis\n",
    "                           (np.bincount, 1, indices.reshape(dist.shape),\n",
    "                            None, np.max(indices) + 1), axis=1)]\n",
    "\n",
    "    def predict_proba(self, X):\n",
    "        if self.algorithm == 'brute':\n",
    "            dist = list(pdc(X, self.X, reduce_func=self.reduce_func))[0]\n",
    "        if self.algorithm == 'kd_tree':\n",
    "            dist = self.y[self.X.query\n",
    "                          (X, k=self.n_neighbors, return_distance=False)]\n",
    "        u, indices = np.unique(dist, return_inverse=True)\n",
    "        counts = np.apply_along_axis(\n",
    "            np.bincount, 1, indices.reshape(dist.shape),\n",
    "            None, np.max(indices) + 1)\n",
    "        proba = counts / self.n_neighbors\n",
    "        return proba\n",
    "\n",
    "    def score(self, X, y):\n",
    "        return (self.predict(X) == y).sum()/y.shape[0]\n",
    "\n",
    "    def show(self):\n",
    "        print(self.testX)"
   ]
  },
  {
   "cell_type": "markdown",
   "metadata": {},
   "source": [
    "**IRIS**"
   ]
  },
  {
   "cell_type": "code",
   "execution_count": 3,
   "metadata": {},
   "outputs": [],
   "source": [
    "iris = datasets.load_iris()"
   ]
  },
  {
   "cell_type": "code",
   "execution_count": 4,
   "metadata": {},
   "outputs": [],
   "source": [
    "X_train, X_test, y_train, y_test = train_test_split(iris.data, iris.target, test_size=0.1, stratify=iris.target)"
   ]
  },
  {
   "cell_type": "code",
   "execution_count": 5,
   "metadata": {},
   "outputs": [],
   "source": [
    "clf = KNeighborsClassifier(n_neighbors=2, algorithm='brute')\n",
    "my_clf = MyKNeighborsClassifier(n_neighbors=2)"
   ]
  },
  {
   "cell_type": "code",
   "execution_count": 6,
   "metadata": {},
   "outputs": [
    {
     "name": "stdout",
     "output_type": "stream",
     "text": [
      "CPU times: user 656 µs, sys: 94 µs, total: 750 µs\n",
      "Wall time: 587 µs\n"
     ]
    },
    {
     "data": {
      "text/plain": [
       "KNeighborsClassifier(algorithm='brute', leaf_size=30, metric='minkowski',\n",
       "           metric_params=None, n_jobs=None, n_neighbors=2, p=2,\n",
       "           weights='uniform')"
      ]
     },
     "execution_count": 6,
     "metadata": {},
     "output_type": "execute_result"
    }
   ],
   "source": [
    "%time clf.fit(X_train, y_train)"
   ]
  },
  {
   "cell_type": "code",
   "execution_count": 7,
   "metadata": {},
   "outputs": [
    {
     "name": "stdout",
     "output_type": "stream",
     "text": [
      "CPU times: user 48 µs, sys: 7 µs, total: 55 µs\n",
      "Wall time: 44.8 µs\n"
     ]
    },
    {
     "data": {
      "text/plain": [
       "MyKNeighborsClassifier(algorithm='brute', n_neighbors=2)"
      ]
     },
     "execution_count": 7,
     "metadata": {},
     "output_type": "execute_result"
    }
   ],
   "source": [
    "%time my_clf.fit(X_train, y_train)"
   ]
  },
  {
   "cell_type": "code",
   "execution_count": 8,
   "metadata": {},
   "outputs": [
    {
     "name": "stdout",
     "output_type": "stream",
     "text": [
      "CPU times: user 2.16 ms, sys: 3.08 ms, total: 5.24 ms\n",
      "Wall time: 22.3 ms\n"
     ]
    },
    {
     "data": {
      "text/plain": [
       "array([0, 2, 0, 1, 0, 1, 2, 2, 1, 2, 1, 0, 1, 1, 0])"
      ]
     },
     "execution_count": 8,
     "metadata": {},
     "output_type": "execute_result"
    }
   ],
   "source": [
    "%time clf.predict(X_test)"
   ]
  },
  {
   "cell_type": "code",
   "execution_count": 9,
   "metadata": {},
   "outputs": [
    {
     "name": "stdout",
     "output_type": "stream",
     "text": [
      "CPU times: user 2.5 ms, sys: 0 ns, total: 2.5 ms\n",
      "Wall time: 1.8 ms\n"
     ]
    },
    {
     "data": {
      "text/plain": [
       "array([0, 2, 0, 1, 0, 1, 2, 2, 1, 2, 1, 0, 1, 1, 0])"
      ]
     },
     "execution_count": 9,
     "metadata": {},
     "output_type": "execute_result"
    }
   ],
   "source": [
    "%time my_clf.predict(X_test)"
   ]
  },
  {
   "cell_type": "code",
   "execution_count": 10,
   "metadata": {},
   "outputs": [
    {
     "name": "stdout",
     "output_type": "stream",
     "text": [
      "CPU times: user 0 ns, sys: 1.53 ms, total: 1.53 ms\n",
      "Wall time: 1.31 ms\n"
     ]
    },
    {
     "data": {
      "text/plain": [
       "array([[1., 0., 0.],\n",
       "       [0., 0., 1.],\n",
       "       [1., 0., 0.],\n",
       "       [0., 1., 0.],\n",
       "       [1., 0., 0.],\n",
       "       [0., 1., 0.],\n",
       "       [0., 0., 1.],\n",
       "       [0., 0., 1.],\n",
       "       [0., 1., 0.],\n",
       "       [0., 0., 1.],\n",
       "       [0., 1., 0.],\n",
       "       [1., 0., 0.],\n",
       "       [0., 1., 0.],\n",
       "       [0., 1., 0.],\n",
       "       [1., 0., 0.]])"
      ]
     },
     "execution_count": 10,
     "metadata": {},
     "output_type": "execute_result"
    }
   ],
   "source": [
    "%time clf.predict_proba(X_test)"
   ]
  },
  {
   "cell_type": "code",
   "execution_count": 11,
   "metadata": {},
   "outputs": [
    {
     "name": "stdout",
     "output_type": "stream",
     "text": [
      "CPU times: user 1.95 ms, sys: 287 µs, total: 2.24 ms\n",
      "Wall time: 1.83 ms\n"
     ]
    },
    {
     "data": {
      "text/plain": [
       "array([[1., 0., 0.],\n",
       "       [0., 0., 1.],\n",
       "       [1., 0., 0.],\n",
       "       [0., 1., 0.],\n",
       "       [1., 0., 0.],\n",
       "       [0., 1., 0.],\n",
       "       [0., 0., 1.],\n",
       "       [0., 0., 1.],\n",
       "       [0., 1., 0.],\n",
       "       [0., 0., 1.],\n",
       "       [0., 1., 0.],\n",
       "       [1., 0., 0.],\n",
       "       [0., 1., 0.],\n",
       "       [0., 1., 0.],\n",
       "       [1., 0., 0.]])"
      ]
     },
     "execution_count": 11,
     "metadata": {},
     "output_type": "execute_result"
    }
   ],
   "source": [
    "%time my_clf.predict_proba(X_test)"
   ]
  },
  {
   "cell_type": "code",
   "execution_count": 12,
   "metadata": {},
   "outputs": [
    {
     "data": {
      "text/plain": [
       "0.9333333333333333"
      ]
     },
     "execution_count": 12,
     "metadata": {},
     "output_type": "execute_result"
    }
   ],
   "source": [
    "clf.score(X_test, y_test)"
   ]
  },
  {
   "cell_type": "code",
   "execution_count": 13,
   "metadata": {},
   "outputs": [
    {
     "data": {
      "text/plain": [
       "0.9333333333333333"
      ]
     },
     "execution_count": 13,
     "metadata": {},
     "output_type": "execute_result"
    }
   ],
   "source": [
    "my_clf.score(X_test, y_test)"
   ]
  },
  {
   "cell_type": "markdown",
   "metadata": {},
   "source": [
    "Задание 3"
   ]
  },
  {
   "cell_type": "code",
   "execution_count": 14,
   "metadata": {},
   "outputs": [
    {
     "name": "stdout",
     "output_type": "stream",
     "text": [
      "n_neighbors = [ 8  9 10 11 12 13 14]\n"
     ]
    },
    {
     "data": {
      "image/png": "[encoded data removed]",
      "text/plain": [
       "<Figure size 1008x576 with 1 Axes>"
      ]
     },
     "metadata": {
      "needs_background": "light"
     },
     "output_type": "display_data"
    }
   ],
   "source": [
    "result = np.empty(99)\n",
    "n_neighbors = np.ndarray(99, dtype = int)\n",
    "for i in range(1, 100):\n",
    "    my_clf = MyKNeighborsClassifier(n_neighbors=i, algorithm = 'brute')\n",
    "    my_clf.fit(X_train, y_train)\n",
    "    n_neighbors[i - 1] = i\n",
    "    result[i - 1] = my_clf.score(X_test, y_test)\n",
    "\n",
    "fig = plt.figure(figsize=(14,8))\n",
    "ax = fig.add_subplot(111)\n",
    "sns.lineplot(n_neighbors, result)\n",
    "ax.set_xlabel('neighbors')\n",
    "ax.set_ylabel('score')\n",
    "ax.set_title('Dependence of KNN score on number of neighbors')\n",
    "print(\"n_neighbors =\", n_neighbors[result == result.max()])"
   ]
  },
  {
   "cell_type": "markdown",
   "metadata": {},
   "source": [
    "\n",
    "**MNIST**"
   ]
  },
  {
   "cell_type": "code",
   "execution_count": 15,
   "metadata": {},
   "outputs": [],
   "source": [
    "from sklearn.datasets import fetch_openml\n",
    "mnist = fetch_openml('mnist_784', version=1, cache=True)"
   ]
  },
  {
   "cell_type": "code",
   "execution_count": 16,
   "metadata": {},
   "outputs": [
    {
     "data": {
      "text/plain": [
       "(69300, 784)"
      ]
     },
     "execution_count": 16,
     "metadata": {},
     "output_type": "execute_result"
    }
   ],
   "source": [
    "X_train, X_test, y_train, y_test = train_test_split(mnist.data, mnist.target, test_size=0.01, stratify=mnist.target)\n",
    "X_train.shape"
   ]
  },
  {
   "cell_type": "code",
   "execution_count": 17,
   "metadata": {},
   "outputs": [],
   "source": [
    "clf = KNeighborsClassifier(n_neighbors=2, algorithm='brute')\n",
    "my_clf = MyKNeighborsClassifier(n_neighbors=2)"
   ]
  },
  {
   "cell_type": "code",
   "execution_count": 18,
   "metadata": {},
   "outputs": [
    {
     "name": "stdout",
     "output_type": "stream",
     "text": [
      "CPU times: user 182 ms, sys: 426 µs, total: 182 ms\n",
      "Wall time: 183 ms\n"
     ]
    },
    {
     "data": {
      "text/plain": [
       "KNeighborsClassifier(algorithm='brute', leaf_size=30, metric='minkowski',\n",
       "           metric_params=None, n_jobs=None, n_neighbors=2, p=2,\n",
       "           weights='uniform')"
      ]
     },
     "execution_count": 18,
     "metadata": {},
     "output_type": "execute_result"
    }
   ],
   "source": [
    "%time clf.fit(X_train, y_train)"
   ]
  },
  {
   "cell_type": "code",
   "execution_count": 19,
   "metadata": {},
   "outputs": [
    {
     "name": "stdout",
     "output_type": "stream",
     "text": [
      "CPU times: user 76.8 ms, sys: 284 ms, total: 361 ms\n",
      "Wall time: 187 ms\n"
     ]
    },
    {
     "data": {
      "text/plain": [
       "MyKNeighborsClassifier(algorithm='brute', n_neighbors=2)"
      ]
     },
     "execution_count": 19,
     "metadata": {},
     "output_type": "execute_result"
    }
   ],
   "source": [
    "%time my_clf.fit(X_train, y_train)"
   ]
  },
  {
   "cell_type": "code",
   "execution_count": 20,
   "metadata": {},
   "outputs": [
    {
     "name": "stdout",
     "output_type": "stream",
     "text": [
      "CPU times: user 4.01 s, sys: 328 ms, total: 4.34 s\n",
      "Wall time: 2.46 s\n"
     ]
    },
    {
     "data": {
      "text/plain": [
       "array(['9', '6', '3', '0', '9', '2', '7', '5', '7', '4', '6', '5', '4',\n",
       "       '7', '5', '7', '5', '5', '9', '2', '5', '8', '0', '1', '5', '4',\n",
       "       '3', '3', '3', '7', '4', '1', '5', '0', '8', '6', '1', '6', '9',\n",
       "       '8', '6', '0', '2', '2', '3', '6', '7', '4', '3', '8', '2', '3',\n",
       "       '1', '0', '1', '5', '0', '8', '0', '7', '1', '6', '4', '8', '9',\n",
       "       '8', '3', '1', '0', '5', '3', '7', '4', '6', '4', '7', '3', '2',\n",
       "       '8', '9', '5', '2', '8', '9', '4', '1', '8', '7', '4', '1', '2',\n",
       "       '3', '0', '6', '8', '5', '2', '1', '6', '3', '5', '8', '4', '1',\n",
       "       '1', '7', '0', '4', '7', '4', '6', '4', '0', '1', '9', '0', '4',\n",
       "       '7', '5', '5', '4', '9', '1', '8', '7', '2', '8', '3', '0', '8',\n",
       "       '7', '8', '7', '3', '6', '4', '5', '0', '4', '5', '9', '7', '8',\n",
       "       '9', '4', '9', '0', '2', '5', '5', '0', '6', '2', '8', '2', '5',\n",
       "       '7', '9', '1', '8', '5', '5', '7', '2', '8', '6', '3', '5', '1',\n",
       "       '9', '1', '1', '5', '3', '7', '6', '9', '8', '4', '3', '9', '5',\n",
       "       '1', '4', '7', '4', '1', '7', '3', '7', '6', '6', '7', '1', '9',\n",
       "       '5', '6', '9', '9', '0', '0', '3', '3', '8', '0', '9', '7', '8',\n",
       "       '1', '4', '5', '3', '7', '9', '2', '5', '2', '7', '2', '2', '8',\n",
       "       '2', '4', '6', '8', '7', '7', '8', '4', '2', '1', '0', '7', '0',\n",
       "       '8', '7', '2', '7', '0', '1', '8', '3', '6', '8', '2', '1', '3',\n",
       "       '5', '5', '0', '6', '0', '3', '4', '3', '5', '3', '8', '4', '2',\n",
       "       '9', '2', '1', '8', '1', '5', '0', '4', '4', '1', '3', '2', '1',\n",
       "       '6', '3', '6', '0', '2', '3', '4', '9', '4', '7', '1', '9', '9',\n",
       "       '1', '1', '9', '8', '4', '3', '6', '3', '9', '7', '8', '5', '8',\n",
       "       '2', '2', '6', '7', '3', '1', '4', '5', '6', '1', '7', '5', '1',\n",
       "       '8', '7', '1', '2', '4', '1', '1', '0', '1', '6', '5', '4', '6',\n",
       "       '3', '1', '6', '4', '8', '0', '5', '0', '3', '1', '9', '6', '3',\n",
       "       '1', '7', '6', '9', '3', '9', '6', '1', '3', '3', '2', '1', '7',\n",
       "       '3', '6', '7', '2', '7', '3', '1', '1', '8', '4', '7', '8', '3',\n",
       "       '4', '2', '0', '2', '8', '5', '2', '9', '7', '2', '5', '4', '3',\n",
       "       '6', '7', '7', '3', '4', '3', '0', '1', '5', '3', '2', '3', '9',\n",
       "       '2', '0', '8', '8', '4', '5', '2', '0', '4', '2', '5', '7', '0',\n",
       "       '0', '3', '8', '5', '3', '6', '7', '7', '2', '0', '3', '7', '6',\n",
       "       '5', '7', '8', '0', '2', '7', '6', '2', '0', '7', '6', '6', '6',\n",
       "       '5', '7', '6', '5', '7', '6', '2', '1', '2', '8', '4', '4', '1',\n",
       "       '1', '9', '1', '4', '0', '2', '1', '8', '3', '3', '7', '9', '1',\n",
       "       '7', '6', '4', '2', '0', '5', '7', '7', '7', '1', '8', '1', '0',\n",
       "       '1', '0', '8', '0', '3', '1', '8', '7', '9', '8', '8', '9', '2',\n",
       "       '4', '1', '7', '9', '0', '1', '0', '0', '1', '9', '0', '9', '2',\n",
       "       '8', '8', '3', '2', '3', '4', '1', '2', '8', '6', '6', '3', '2',\n",
       "       '7', '6', '6', '3', '3', '9', '4', '3', '1', '0', '5', '1', '4',\n",
       "       '6', '4', '5', '5', '3', '0', '3', '6', '5', '0', '4', '3', '2',\n",
       "       '0', '5', '6', '0', '3', '1', '8', '4', '4', '9', '0', '0', '4',\n",
       "       '0', '3', '3', '1', '9', '0', '7', '9', '4', '9', '6', '3', '6',\n",
       "       '7', '9', '6', '8', '3', '8', '0', '4', '1', '4', '1', '1', '9',\n",
       "       '3', '4', '5', '3', '1', '0', '2', '8', '1', '6', '1', '5', '2',\n",
       "       '0', '2', '7', '0', '3', '5', '3', '9', '6', '5', '5', '0', '6',\n",
       "       '1', '9', '8', '6', '4', '2', '6', '9', '1', '9', '3', '3', '3',\n",
       "       '7', '6', '2', '0', '7', '9', '9', '9', '7', '6', '4', '0', '9',\n",
       "       '4', '2', '5', '9', '7', '4', '9', '8', '2', '1', '2', '5', '9',\n",
       "       '6', '4', '4', '6', '6', '8', '0', '7', '9', '9', '8', '2', '7',\n",
       "       '4', '9', '3', '1', '4', '0', '6', '1', '5', '0', '0', '9', '6',\n",
       "       '2', '3', '9', '3', '6', '6', '3', '2', '6', '9', '1', '0', '2',\n",
       "       '0', '9', '2', '2', '1', '8', '4', '5', '1', '5', '0', '6', '9',\n",
       "       '7', '3', '0', '2', '9', '1', '2', '1', '1', '5', '6'],\n",
       "      dtype=object)"
      ]
     },
     "execution_count": 20,
     "metadata": {},
     "output_type": "execute_result"
    }
   ],
   "source": [
    "%time clf.predict(X_test)"
   ]
  },
  {
   "cell_type": "code",
   "execution_count": 21,
   "metadata": {},
   "outputs": [
    {
     "name": "stdout",
     "output_type": "stream",
     "text": [
      "CPU times: user 3.74 s, sys: 289 ms, total: 4.03 s\n",
      "Wall time: 2.29 s\n"
     ]
    },
    {
     "data": {
      "text/plain": [
       "array(['9', '6', '3', '0', '9', '2', '7', '5', '7', '4', '6', '5', '4',\n",
       "       '7', '5', '7', '5', '5', '9', '2', '5', '8', '0', '1', '5', '4',\n",
       "       '3', '3', '3', '7', '4', '1', '5', '0', '8', '6', '1', '6', '9',\n",
       "       '8', '6', '0', '2', '2', '3', '6', '7', '4', '3', '8', '2', '3',\n",
       "       '1', '0', '1', '5', '0', '8', '0', '7', '1', '6', '4', '8', '9',\n",
       "       '8', '3', '1', '0', '5', '3', '7', '4', '6', '4', '7', '3', '2',\n",
       "       '8', '9', '5', '2', '8', '9', '4', '1', '8', '7', '4', '1', '2',\n",
       "       '3', '0', '6', '8', '5', '2', '1', '6', '3', '5', '8', '4', '1',\n",
       "       '1', '7', '0', '4', '7', '4', '6', '4', '0', '1', '9', '0', '4',\n",
       "       '7', '5', '5', '4', '9', '1', '8', '7', '2', '8', '3', '0', '8',\n",
       "       '7', '8', '7', '3', '6', '4', '5', '0', '4', '5', '9', '7', '8',\n",
       "       '9', '4', '9', '0', '2', '5', '5', '0', '6', '2', '8', '2', '5',\n",
       "       '7', '9', '1', '8', '5', '5', '7', '2', '8', '6', '3', '5', '1',\n",
       "       '9', '1', '1', '5', '3', '7', '6', '9', '8', '4', '3', '9', '5',\n",
       "       '1', '4', '7', '4', '1', '7', '3', '7', '6', '6', '7', '1', '9',\n",
       "       '5', '6', '9', '9', '0', '0', '3', '3', '8', '0', '9', '7', '8',\n",
       "       '1', '4', '5', '3', '7', '9', '2', '5', '2', '7', '2', '2', '8',\n",
       "       '2', '4', '6', '8', '7', '7', '8', '4', '2', '1', '0', '7', '0',\n",
       "       '8', '7', '2', '7', '0', '1', '8', '3', '6', '8', '2', '1', '3',\n",
       "       '5', '5', '0', '6', '0', '3', '4', '3', '5', '3', '8', '4', '2',\n",
       "       '9', '2', '1', '8', '1', '5', '0', '4', '4', '1', '3', '2', '1',\n",
       "       '6', '3', '6', '0', '2', '3', '4', '9', '4', '7', '1', '9', '9',\n",
       "       '1', '1', '9', '8', '4', '3', '6', '3', '9', '7', '8', '5', '8',\n",
       "       '2', '2', '6', '7', '3', '1', '4', '5', '6', '1', '7', '5', '1',\n",
       "       '8', '7', '1', '2', '4', '1', '1', '0', '1', '6', '5', '4', '6',\n",
       "       '3', '1', '6', '4', '8', '0', '5', '0', '3', '1', '9', '6', '3',\n",
       "       '1', '7', '6', '9', '3', '9', '6', '1', '3', '3', '2', '1', '7',\n",
       "       '3', '6', '7', '2', '7', '3', '1', '1', '8', '4', '7', '8', '3',\n",
       "       '4', '2', '0', '2', '8', '5', '2', '9', '7', '2', '5', '4', '3',\n",
       "       '6', '7', '7', '3', '4', '3', '0', '1', '5', '3', '2', '3', '9',\n",
       "       '2', '0', '8', '8', '4', '5', '2', '0', '4', '2', '5', '7', '0',\n",
       "       '0', '3', '8', '5', '3', '6', '7', '7', '2', '0', '3', '7', '6',\n",
       "       '5', '7', '8', '0', '2', '7', '6', '2', '0', '7', '6', '6', '6',\n",
       "       '5', '7', '6', '5', '7', '6', '2', '1', '2', '8', '4', '4', '1',\n",
       "       '1', '9', '1', '4', '0', '2', '1', '8', '3', '3', '7', '9', '1',\n",
       "       '7', '6', '4', '2', '0', '5', '7', '7', '7', '1', '8', '1', '0',\n",
       "       '1', '0', '8', '0', '3', '1', '8', '7', '9', '8', '8', '9', '2',\n",
       "       '4', '1', '7', '9', '0', '1', '0', '0', '1', '9', '0', '9', '2',\n",
       "       '8', '8', '3', '2', '3', '4', '1', '2', '8', '6', '6', '3', '2',\n",
       "       '7', '6', '6', '3', '3', '9', '4', '3', '1', '0', '5', '1', '4',\n",
       "       '6', '4', '5', '5', '3', '0', '3', '6', '5', '0', '4', '3', '2',\n",
       "       '0', '5', '6', '0', '3', '1', '8', '4', '4', '9', '0', '0', '4',\n",
       "       '0', '3', '3', '1', '9', '0', '7', '9', '4', '9', '6', '3', '6',\n",
       "       '7', '9', '6', '8', '3', '8', '0', '4', '1', '4', '1', '1', '9',\n",
       "       '3', '4', '5', '3', '1', '0', '2', '8', '1', '6', '1', '5', '2',\n",
       "       '0', '2', '7', '0', '3', '5', '3', '9', '6', '5', '5', '0', '6',\n",
       "       '1', '9', '8', '6', '4', '2', '6', '9', '1', '9', '3', '3', '3',\n",
       "       '7', '6', '2', '0', '7', '9', '9', '9', '7', '6', '4', '0', '9',\n",
       "       '4', '2', '5', '9', '7', '4', '9', '8', '2', '1', '2', '5', '9',\n",
       "       '6', '4', '4', '6', '6', '8', '0', '7', '9', '9', '8', '2', '7',\n",
       "       '4', '9', '3', '1', '4', '0', '6', '1', '5', '0', '0', '9', '6',\n",
       "       '2', '3', '9', '3', '6', '6', '3', '2', '6', '9', '1', '0', '2',\n",
       "       '0', '9', '2', '2', '1', '8', '4', '5', '1', '5', '0', '6', '9',\n",
       "       '7', '3', '0', '2', '9', '1', '2', '1', '1', '5', '6'],\n",
       "      dtype=object)"
      ]
     },
     "execution_count": 21,
     "metadata": {},
     "output_type": "execute_result"
    }
   ],
   "source": [
    "%time my_clf.predict(X_test)"
   ]
  },
  {
   "cell_type": "code",
   "execution_count": 22,
   "metadata": {},
   "outputs": [
    {
     "name": "stdout",
     "output_type": "stream",
     "text": [
      "CPU times: user 3.27 s, sys: 319 ms, total: 3.59 s\n",
      "Wall time: 2.12 s\n"
     ]
    },
    {
     "data": {
      "text/plain": [
       "array([[0. , 0. , 0. , ..., 0. , 0. , 1. ],\n",
       "       [0. , 0. , 0. , ..., 0. , 0. , 0. ],\n",
       "       [0. , 0. , 0. , ..., 0. , 0.5, 0. ],\n",
       "       ...,\n",
       "       [0. , 1. , 0. , ..., 0. , 0. , 0. ],\n",
       "       [0. , 0. , 0. , ..., 0. , 0. , 0. ],\n",
       "       [0. , 0. , 0. , ..., 0. , 0. , 0. ]])"
      ]
     },
     "execution_count": 22,
     "metadata": {},
     "output_type": "execute_result"
    }
   ],
   "source": [
    "%time clf.predict_proba(X_test)"
   ]
  },
  {
   "cell_type": "code",
   "execution_count": 23,
   "metadata": {},
   "outputs": [
    {
     "name": "stdout",
     "output_type": "stream",
     "text": [
      "CPU times: user 3.9 s, sys: 346 ms, total: 4.25 s\n",
      "Wall time: 2.45 s\n"
     ]
    },
    {
     "data": {
      "text/plain": [
       "array([[0. , 0. , 0. , ..., 0. , 0. , 1. ],\n",
       "       [0. , 0. , 0. , ..., 0. , 0. , 0. ],\n",
       "       [0. , 0. , 0. , ..., 0. , 0.5, 0. ],\n",
       "       ...,\n",
       "       [0. , 1. , 0. , ..., 0. , 0. , 0. ],\n",
       "       [0. , 0. , 0. , ..., 0. , 0. , 0. ],\n",
       "       [0. , 0. , 0. , ..., 0. , 0. , 0. ]])"
      ]
     },
     "execution_count": 23,
     "metadata": {},
     "output_type": "execute_result"
    }
   ],
   "source": [
    "%time my_clf.predict_proba(X_test)"
   ]
  },
  {
   "cell_type": "code",
   "execution_count": 24,
   "metadata": {},
   "outputs": [
    {
     "name": "stdout",
     "output_type": "stream",
     "text": [
      "CPU times: user 3.64 s, sys: 296 ms, total: 3.93 s\n",
      "Wall time: 2.36 s\n"
     ]
    },
    {
     "data": {
      "text/plain": [
       "0.9728571428571429"
      ]
     },
     "execution_count": 24,
     "metadata": {},
     "output_type": "execute_result"
    }
   ],
   "source": [
    "%time clf.score(X_test, y_test)"
   ]
  },
  {
   "cell_type": "code",
   "execution_count": 25,
   "metadata": {},
   "outputs": [
    {
     "name": "stdout",
     "output_type": "stream",
     "text": [
      "CPU times: user 3.64 s, sys: 338 ms, total: 3.98 s\n",
      "Wall time: 2.31 s\n"
     ]
    },
    {
     "data": {
      "text/plain": [
       "0.9728571428571429"
      ]
     },
     "execution_count": 25,
     "metadata": {},
     "output_type": "execute_result"
    }
   ],
   "source": [
    "%time my_clf.score(X_test, y_test)"
   ]
  },
  {
   "cell_type": "markdown",
   "metadata": {},
   "source": [
    "Задание 4"
   ]
  },
  {
   "cell_type": "code",
   "execution_count": 26,
   "metadata": {},
   "outputs": [],
   "source": [
    "clf = KNeighborsClassifier(n_neighbors=2, algorithm='kd_tree')\n",
    "my_clf = MyKNeighborsClassifier(n_neighbors=2, algorithm='kd_tree')"
   ]
  },
  {
   "cell_type": "code",
   "execution_count": 27,
   "metadata": {},
   "outputs": [],
   "source": [
    "X_train, X_test, y_train, y_test = train_test_split(mnist.data, mnist.target, test_size=0.01, stratify=mnist.target)"
   ]
  },
  {
   "cell_type": "code",
   "execution_count": 28,
   "metadata": {},
   "outputs": [
    {
     "name": "stdout",
     "output_type": "stream",
     "text": [
      "CPU times: user 52 s, sys: 184 ms, total: 52.2 s\n",
      "Wall time: 52.3 s\n"
     ]
    },
    {
     "data": {
      "text/plain": [
       "KNeighborsClassifier(algorithm='kd_tree', leaf_size=30, metric='minkowski',\n",
       "           metric_params=None, n_jobs=None, n_neighbors=2, p=2,\n",
       "           weights='uniform')"
      ]
     },
     "execution_count": 28,
     "metadata": {},
     "output_type": "execute_result"
    }
   ],
   "source": [
    "%time clf.fit(X_train, y_train)"
   ]
  },
  {
   "cell_type": "code",
   "execution_count": 29,
   "metadata": {},
   "outputs": [
    {
     "name": "stdout",
     "output_type": "stream",
     "text": [
      "CPU times: user 50.3 s, sys: 257 ms, total: 50.6 s\n",
      "Wall time: 50.4 s\n"
     ]
    },
    {
     "data": {
      "text/plain": [
       "MyKNeighborsClassifier(algorithm='kd_tree', n_neighbors=2)"
      ]
     },
     "execution_count": 29,
     "metadata": {},
     "output_type": "execute_result"
    }
   ],
   "source": [
    "%time my_clf.fit(X_train, y_train)"
   ]
  },
  {
   "cell_type": "code",
   "execution_count": 30,
   "metadata": {},
   "outputs": [
    {
     "name": "stdout",
     "output_type": "stream",
     "text": [
      "CPU times: user 1min 28s, sys: 45.2 ms, total: 1min 28s\n",
      "Wall time: 1min 28s\n"
     ]
    },
    {
     "data": {
      "text/plain": [
       "array(['6', '1', '2', '3', '1', '3', '8', '3', '3', '1', '4', '7', '1',\n",
       "       '5', '5', '1', '7', '9', '5', '2', '9', '7', '9', '4', '4', '3',\n",
       "       '8', '3', '7', '6', '4', '8', '9', '8', '8', '2', '2', '2', '7',\n",
       "       '7', '1', '1', '5', '7', '0', '1', '0', '9', '6', '1', '1', '9',\n",
       "       '9', '5', '9', '7', '8', '0', '5', '1', '6', '3', '5', '8', '0',\n",
       "       '2', '9', '2', '7', '0', '1', '9', '6', '0', '7', '0', '1', '5',\n",
       "       '8', '6', '8', '4', '4', '6', '5', '6', '1', '6', '7', '2', '1',\n",
       "       '0', '7', '2', '1', '5', '1', '0', '5', '3', '5', '2', '6', '8',\n",
       "       '6', '1', '7', '2', '3', '1', '8', '4', '9', '4', '8', '4', '9',\n",
       "       '5', '1', '7', '2', '4', '0', '6', '7', '3', '4', '4', '2', '5',\n",
       "       '4', '1', '3', '4', '7', '1', '0', '3', '3', '4', '3', '6', '5',\n",
       "       '5', '0', '2', '1', '3', '2', '2', '7', '3', '9', '1', '8', '0',\n",
       "       '1', '2', '3', '0', '7', '1', '1', '9', '7', '9', '9', '1', '8',\n",
       "       '4', '8', '2', '2', '2', '3', '2', '4', '0', '7', '9', '3', '6',\n",
       "       '2', '8', '1', '9', '6', '9', '5', '0', '1', '8', '5', '5', '0',\n",
       "       '3', '8', '7', '7', '3', '5', '3', '0', '0', '9', '8', '2', '3',\n",
       "       '5', '0', '1', '6', '6', '9', '2', '4', '8', '2', '5', '9', '4',\n",
       "       '2', '4', '0', '6', '5', '8', '8', '6', '0', '4', '9', '0', '1',\n",
       "       '7', '9', '5', '6', '8', '1', '1', '0', '7', '9', '4', '2', '1',\n",
       "       '1', '4', '2', '7', '0', '7', '1', '8', '9', '6', '7', '8', '6',\n",
       "       '0', '1', '6', '5', '3', '8', '6', '2', '2', '0', '3', '8', '2',\n",
       "       '2', '6', '7', '5', '2', '5', '7', '4', '3', '0', '3', '5', '3',\n",
       "       '3', '7', '8', '0', '3', '5', '9', '4', '0', '2', '3', '0', '3',\n",
       "       '4', '8', '5', '4', '6', '7', '6', '6', '6', '3', '8', '4', '3',\n",
       "       '7', '9', '5', '6', '0', '3', '4', '4', '1', '0', '1', '4', '8',\n",
       "       '8', '4', '5', '6', '0', '3', '7', '3', '4', '8', '6', '5', '3',\n",
       "       '0', '1', '9', '4', '1', '8', '2', '4', '3', '1', '6', '9', '8',\n",
       "       '3', '6', '7', '4', '4', '2', '0', '2', '0', '4', '8', '9', '1',\n",
       "       '1', '9', '6', '6', '5', '7', '3', '1', '9', '3', '7', '6', '2',\n",
       "       '0', '7', '5', '0', '1', '0', '2', '5', '6', '8', '8', '9', '5',\n",
       "       '8', '2', '8', '9', '7', '8', '6', '3', '9', '0', '6', '1', '4',\n",
       "       '3', '1', '8', '1', '0', '6', '4', '7', '7', '1', '4', '0', '0',\n",
       "       '5', '4', '1', '8', '2', '1', '7', '7', '3', '7', '7', '5', '3',\n",
       "       '4', '6', '7', '5', '6', '6', '2', '4', '1', '8', '1', '8', '5',\n",
       "       '2', '6', '2', '7', '8', '3', '7', '4', '3', '0', '3', '7', '9',\n",
       "       '6', '4', '4', '7', '3', '6', '9', '2', '6', '4', '5', '2', '7',\n",
       "       '4', '9', '1', '3', '4', '2', '9', '6', '4', '7', '3', '0', '1',\n",
       "       '8', '5', '0', '9', '5', '6', '8', '9', '6', '7', '6', '2', '6',\n",
       "       '2', '2', '4', '5', '1', '9', '7', '7', '3', '1', '4', '4', '9',\n",
       "       '4', '0', '5', '9', '8', '3', '9', '7', '1', '1', '3', '0', '2',\n",
       "       '2', '6', '0', '5', '6', '7', '6', '9', '0', '9', '2', '2', '7',\n",
       "       '0', '7', '3', '1', '9', '9', '1', '0', '1', '4', '0', '1', '2',\n",
       "       '3', '5', '0', '1', '8', '1', '0', '9', '4', '7', '6', '2', '6',\n",
       "       '8', '7', '7', '3', '7', '0', '2', '8', '2', '8', '7', '8', '3',\n",
       "       '2', '2', '0', '6', '8', '6', '1', '9', '3', '5', '2', '3', '9',\n",
       "       '2', '2', '1', '3', '9', '1', '0', '7', '9', '9', '1', '4', '5',\n",
       "       '5', '0', '2', '8', '1', '9', '7', '2', '6', '9', '0', '8', '2',\n",
       "       '0', '1', '0', '1', '6', '0', '8', '0', '1', '5', '2', '3', '6',\n",
       "       '7', '8', '4', '3', '9', '9', '5', '6', '5', '8', '8', '4', '5',\n",
       "       '1', '9', '5', '7', '1', '8', '4', '0', '8', '4', '0', '4', '4',\n",
       "       '7', '7', '4', '6', '3', '9', '5', '9', '3', '3', '7', '1', '9',\n",
       "       '9', '5', '0', '5', '1', '4', '2', '2', '7', '6', '7', '3', '9',\n",
       "       '5', '8', '5', '7', '9', '4', '9', '3', '0', '9', '4', '6', '2',\n",
       "       '3', '1', '3', '7', '3', '4', '6', '5', '5', '0', '2'],\n",
       "      dtype=object)"
      ]
     },
     "execution_count": 30,
     "metadata": {},
     "output_type": "execute_result"
    }
   ],
   "source": [
    "%time clf.predict(X_test)"
   ]
  },
  {
   "cell_type": "code",
   "execution_count": 31,
   "metadata": {},
   "outputs": [
    {
     "name": "stdout",
     "output_type": "stream",
     "text": [
      "CPU times: user 1min 13s, sys: 2.58 ms, total: 1min 13s\n",
      "Wall time: 1min 14s\n"
     ]
    },
    {
     "data": {
      "text/plain": [
       "array(['6', '1', '2', '3', '1', '3', '8', '3', '3', '1', '4', '7', '1',\n",
       "       '5', '5', '1', '7', '9', '5', '2', '9', '7', '9', '4', '4', '3',\n",
       "       '8', '3', '7', '6', '4', '8', '9', '8', '8', '2', '2', '2', '7',\n",
       "       '7', '1', '1', '5', '7', '0', '1', '0', '9', '6', '1', '1', '9',\n",
       "       '9', '5', '9', '7', '8', '0', '5', '1', '6', '3', '5', '8', '0',\n",
       "       '2', '9', '2', '7', '0', '1', '9', '6', '0', '7', '0', '1', '5',\n",
       "       '8', '6', '8', '4', '4', '6', '5', '6', '1', '6', '7', '2', '1',\n",
       "       '0', '7', '2', '1', '5', '1', '0', '5', '3', '5', '2', '6', '8',\n",
       "       '6', '1', '7', '2', '3', '1', '8', '4', '9', '4', '8', '4', '9',\n",
       "       '5', '1', '7', '2', '4', '0', '6', '7', '3', '4', '4', '2', '5',\n",
       "       '4', '1', '3', '4', '7', '1', '0', '3', '3', '4', '3', '6', '5',\n",
       "       '5', '0', '2', '1', '3', '2', '2', '7', '3', '9', '1', '8', '0',\n",
       "       '1', '2', '3', '0', '7', '1', '1', '9', '7', '9', '9', '1', '8',\n",
       "       '4', '8', '2', '2', '2', '3', '2', '4', '0', '7', '9', '3', '6',\n",
       "       '2', '8', '1', '9', '6', '9', '5', '0', '1', '8', '5', '5', '0',\n",
       "       '3', '8', '7', '7', '3', '5', '3', '0', '0', '9', '8', '2', '3',\n",
       "       '5', '0', '1', '6', '6', '9', '2', '4', '8', '2', '5', '9', '4',\n",
       "       '2', '4', '0', '6', '5', '8', '8', '6', '0', '4', '9', '0', '1',\n",
       "       '7', '9', '5', '6', '8', '1', '1', '0', '7', '9', '4', '2', '1',\n",
       "       '1', '4', '2', '7', '0', '7', '1', '8', '9', '6', '7', '8', '6',\n",
       "       '0', '1', '6', '5', '3', '8', '6', '2', '2', '0', '3', '8', '2',\n",
       "       '2', '6', '7', '5', '2', '5', '7', '4', '3', '0', '3', '5', '3',\n",
       "       '3', '7', '8', '0', '3', '5', '9', '4', '0', '2', '3', '0', '3',\n",
       "       '4', '8', '5', '4', '6', '7', '6', '6', '6', '3', '8', '4', '3',\n",
       "       '7', '9', '5', '6', '0', '3', '4', '4', '1', '0', '1', '4', '8',\n",
       "       '8', '4', '5', '6', '0', '3', '7', '3', '4', '8', '6', '5', '3',\n",
       "       '0', '1', '9', '4', '1', '8', '2', '4', '3', '1', '6', '9', '8',\n",
       "       '3', '6', '7', '4', '4', '2', '0', '2', '0', '4', '8', '9', '1',\n",
       "       '1', '9', '6', '6', '5', '7', '3', '1', '9', '3', '7', '6', '2',\n",
       "       '0', '7', '5', '0', '1', '0', '2', '5', '6', '8', '8', '9', '5',\n",
       "       '8', '2', '8', '9', '7', '8', '6', '3', '9', '0', '6', '1', '4',\n",
       "       '3', '1', '8', '1', '0', '6', '4', '7', '7', '1', '4', '0', '0',\n",
       "       '5', '4', '1', '8', '2', '1', '7', '7', '3', '7', '7', '5', '3',\n",
       "       '4', '6', '7', '5', '6', '6', '2', '4', '1', '8', '1', '8', '5',\n",
       "       '2', '6', '2', '7', '8', '3', '7', '4', '3', '0', '3', '7', '9',\n",
       "       '6', '4', '4', '7', '3', '6', '9', '2', '6', '4', '5', '2', '7',\n",
       "       '4', '9', '1', '3', '4', '2', '9', '6', '4', '7', '3', '0', '1',\n",
       "       '8', '5', '0', '9', '5', '6', '8', '9', '6', '7', '6', '2', '6',\n",
       "       '2', '2', '4', '5', '1', '9', '7', '7', '3', '1', '4', '4', '9',\n",
       "       '4', '0', '5', '9', '8', '3', '9', '7', '1', '1', '3', '0', '2',\n",
       "       '2', '6', '0', '5', '6', '7', '6', '9', '0', '9', '2', '2', '7',\n",
       "       '0', '7', '3', '1', '9', '9', '1', '0', '1', '4', '0', '1', '2',\n",
       "       '3', '5', '0', '1', '8', '1', '0', '9', '4', '7', '6', '2', '6',\n",
       "       '8', '7', '7', '3', '7', '0', '2', '8', '2', '8', '7', '8', '3',\n",
       "       '2', '2', '0', '6', '8', '6', '1', '9', '3', '5', '2', '3', '9',\n",
       "       '2', '2', '1', '3', '9', '1', '0', '7', '9', '9', '1', '4', '5',\n",
       "       '5', '0', '2', '8', '1', '9', '7', '2', '6', '9', '0', '8', '2',\n",
       "       '0', '1', '0', '1', '6', '0', '8', '0', '1', '5', '2', '3', '6',\n",
       "       '7', '8', '4', '3', '9', '9', '5', '6', '5', '8', '8', '4', '5',\n",
       "       '1', '9', '5', '7', '1', '8', '4', '0', '8', '4', '0', '4', '4',\n",
       "       '7', '7', '4', '6', '3', '9', '5', '9', '3', '3', '7', '1', '9',\n",
       "       '9', '5', '0', '5', '1', '4', '2', '2', '7', '6', '7', '3', '9',\n",
       "       '5', '8', '5', '7', '9', '4', '9', '3', '0', '9', '4', '6', '2',\n",
       "       '3', '1', '3', '7', '3', '4', '6', '5', '5', '0', '2'],\n",
       "      dtype=object)"
      ]
     },
     "execution_count": 31,
     "metadata": {},
     "output_type": "execute_result"
    }
   ],
   "source": [
    "%time my_clf.predict(X_test)"
   ]
  },
  {
   "cell_type": "code",
   "execution_count": 32,
   "metadata": {},
   "outputs": [
    {
     "name": "stdout",
     "output_type": "stream",
     "text": [
      "CPU times: user 1min 32s, sys: 72.2 ms, total: 1min 32s\n",
      "Wall time: 1min 32s\n"
     ]
    },
    {
     "data": {
      "text/plain": [
       "array([[0., 0., 0., ..., 0., 0., 0.],\n",
       "       [0., 1., 0., ..., 0., 0., 0.],\n",
       "       [0., 0., 1., ..., 0., 0., 0.],\n",
       "       ...,\n",
       "       [0., 0., 0., ..., 0., 0., 0.],\n",
       "       [1., 0., 0., ..., 0., 0., 0.],\n",
       "       [0., 0., 1., ..., 0., 0., 0.]])"
      ]
     },
     "execution_count": 32,
     "metadata": {},
     "output_type": "execute_result"
    }
   ],
   "source": [
    "%time clf.predict_proba(X_test)"
   ]
  },
  {
   "cell_type": "code",
   "execution_count": 33,
   "metadata": {},
   "outputs": [
    {
     "name": "stdout",
     "output_type": "stream",
     "text": [
      "CPU times: user 1min 18s, sys: 26.4 ms, total: 1min 18s\n",
      "Wall time: 1min 19s\n"
     ]
    },
    {
     "data": {
      "text/plain": [
       "array([[0., 0., 0., ..., 0., 0., 0.],\n",
       "       [0., 1., 0., ..., 0., 0., 0.],\n",
       "       [0., 0., 1., ..., 0., 0., 0.],\n",
       "       ...,\n",
       "       [0., 0., 0., ..., 0., 0., 0.],\n",
       "       [1., 0., 0., ..., 0., 0., 0.],\n",
       "       [0., 0., 1., ..., 0., 0., 0.]])"
      ]
     },
     "execution_count": 33,
     "metadata": {},
     "output_type": "execute_result"
    }
   ],
   "source": [
    "%time my_clf.predict_proba(X_test)"
   ]
  },
  {
   "cell_type": "code",
   "execution_count": 34,
   "metadata": {},
   "outputs": [
    {
     "data": {
      "text/plain": [
       "0.9842857142857143"
      ]
     },
     "execution_count": 34,
     "metadata": {},
     "output_type": "execute_result"
    }
   ],
   "source": [
    "clf.score(X_test, y_test)"
   ]
  },
  {
   "cell_type": "code",
   "execution_count": 35,
   "metadata": {},
   "outputs": [
    {
     "data": {
      "text/plain": [
       "0.9842857142857143"
      ]
     },
     "execution_count": 35,
     "metadata": {},
     "output_type": "execute_result"
    }
   ],
   "source": [
    "my_clf.score(X_test, y_test)"
   ]
  },
  {
   "cell_type": "markdown",
   "metadata": {},
   "source": [
    "Задание 5"
   ]
  },
  {
   "cell_type": "code",
   "execution_count": 36,
   "metadata": {},
   "outputs": [
    {
     "ename": "SyntaxError",
     "evalue": "invalid syntax (<ipython-input-36-40ade0c843e8>, line 2)",
     "output_type": "error",
     "traceback": [
      "\u001b[0;36m  File \u001b[0;32m\"<ipython-input-36-40ade0c843e8>\"\u001b[0;36m, line \u001b[0;32m2\u001b[0m\n\u001b[0;31m    Библиотека для визуализации данных\u001b[0m\n\u001b[0m                 ^\u001b[0m\n\u001b[0;31mSyntaxError\u001b[0m\u001b[0;31m:\u001b[0m invalid syntax\n"
     ]
    }
   ],
   "source": [
    "# seaborn\n",
    "Библиотека для визуализации данных\n",
    "\n",
    "# matplotlib\n",
    "Библиотека для визуализации данных\n",
    "\n",
    "# train_test_split\n",
    "Разбивает массив на train и test подмассивы\n",
    "\n",
    "# Pipelin%load_ext e (from sklearn.pipeline import Pipeline)\n",
    "функция, предназначенная для создания цепи последовательных преобразований\n",
    "\n",
    "# StandardScaler (from sklearn.preprocessing import StandardScaler)\n",
    "производит преобразование z = (x - u) / s, где u - среднее x, s - дисперсия x\n",
    "\n",
    "# ClassifierMixin\n",
    "Mixin-класс для всех классификаторов в sklearn, содержит функцию score\n",
    "\n",
    "# NeighborsBase\n",
    "базовый класс для всех алгоритмов KNN в sklearn\n",
    "\n",
    "# KNeighborsMixin\n",
    "Mixin-класс для реализации различных алгоритмов поиска К ближайших соседей\n",
    "\n",
    "# SupervisedIntegerMixin\n",
    "Mixin-класс, использующийся для замешивания,содержит метод fit"
   ]
  },
  {
   "cell_type": "code",
   "execution_count": null,
   "metadata": {},
   "outputs": [],
   "source": []
  }
 ],
 "metadata": {
  "kernelspec": {
   "display_name": "Python 3",
   "language": "python",
   "name": "python3"
  },
  "language_info": {
   "codemirror_mode": {
    "name": "ipython",
    "version": 3
   },
   "file_extension": ".py",
   "mimetype": "text/x-python",
   "name": "python",
   "nbconvert_exporter": "python",
   "pygments_lexer": "ipython3",
   "version": "3.7.1"
  }
 },
 "nbformat": 4,
 "nbformat_minor": 2
}
